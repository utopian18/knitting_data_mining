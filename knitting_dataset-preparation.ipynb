{
 "cells": [
  {
   "cell_type": "code",
   "execution_count": 1,
   "id": "48398e40",
   "metadata": {},
   "outputs": [],
   "source": [
    "import pandas as pd\n",
    "import numpy as np"
   ]
  },
  {
   "cell_type": "code",
   "execution_count": 2,
   "id": "06189a88",
   "metadata": {},
   "outputs": [],
   "source": [
    "df = pd.read_excel('Production Report June-August 2022-2.xlsx')"
   ]
  },
  {
   "cell_type": "code",
   "execution_count": 3,
   "id": "cb870465-9268-4da6-b194-3bd2715be72e",
   "metadata": {},
   "outputs": [
    {
     "data": {
      "text/plain": [
       "M/C Brand\n",
       "Fukuhara      3641\n",
       "JiunnLong     2330\n",
       "Hangxing      2227\n",
       "Pailung       2041\n",
       "Lisky          620\n",
       "Jiunn Long     581\n",
       "Santoni        179\n",
       "Name: count, dtype: int64"
      ]
     },
     "execution_count": 3,
     "metadata": {},
     "output_type": "execute_result"
    }
   ],
   "source": [
    "df['M/C Brand'].value_counts()"
   ]
  },
  {
   "cell_type": "code",
   "execution_count": 4,
   "id": "d7618130-d551-46ae-9ff8-7a1784ac9efe",
   "metadata": {},
   "outputs": [
    {
     "data": {
      "text/plain": [
       "Body Part\n",
       "Main Fabric Top       4768\n",
       "Body                  2158\n",
       "Main Fabric Bottom     932\n",
       "Body Neck Binding      831\n",
       "Body part-1            585\n",
       "Name: count, dtype: int64"
      ]
     },
     "execution_count": 4,
     "metadata": {},
     "output_type": "execute_result"
    }
   ],
   "source": [
    "df['Body Part'].value_counts().head()"
   ]
  },
  {
   "cell_type": "code",
   "execution_count": 5,
   "id": "cc38e0bb-6930-42d3-b347-4650c625afd3",
   "metadata": {},
   "outputs": [
    {
     "data": {
      "text/plain": [
       "Booking Type\n",
       "Main                    8782\n",
       "Sample Without Order    2091\n",
       "Short                    305\n",
       "Partial                    3\n",
       "Name: count, dtype: int64"
      ]
     },
     "execution_count": 5,
     "metadata": {},
     "output_type": "execute_result"
    }
   ],
   "source": [
    "df['Booking Type'].value_counts()"
   ]
  },
  {
   "cell_type": "code",
   "execution_count": 6,
   "id": "5a830778-6820-4514-97ba-4821c47a7d11",
   "metadata": {},
   "outputs": [
    {
     "data": {
      "text/plain": [
       "Construction\n",
       "S/J                                 5412\n",
       "LS/J                                 975\n",
       "L S/J                                842\n",
       "Pique                                562\n",
       "Design Mesh                          539\n",
       "French Terry Inside Soft Brushed     337\n",
       "Scuba Interlock                      278\n",
       "1x1 Rib                              265\n",
       "1X1 Rib                              236\n",
       "1X1 Rib [Plated]                     172\n",
       "Terry                                169\n",
       "Interlock                            158\n",
       "Fleece Inside Brush                  150\n",
       "FLEECE                               136\n",
       "2X2 RIB                              134\n",
       "Flat Knit Rib                        131\n",
       "Fleece                               117\n",
       "1x1 L -Rib                           102\n",
       "FRENCH TERRY                          94\n",
       "Jersey                                88\n",
       "Name: count, dtype: int64"
      ]
     },
     "execution_count": 6,
     "metadata": {},
     "output_type": "execute_result"
    }
   ],
   "source": [
    "df['Construction'].value_counts()[:20]"
   ]
  },
  {
   "cell_type": "code",
   "execution_count": 7,
   "id": "be6bba97-1546-4472-ad9f-f94b330741c8",
   "metadata": {},
   "outputs": [
    {
     "data": {
      "text/plain": [
       "Composition\n",
       "BCI Cotton 100%                                                     2232\n",
       "Cotton 100%                                                         2094\n",
       "100% SD Polyester %                                                  633\n",
       "BCI Cotton 95% Elastane 5%                                           548\n",
       "95% Cotton-5% Elastan 100%                                           535\n",
       "60% CMIA Cotton 40% Polyester %                                      361\n",
       "95% Cotton-5% Elastan %                                              312\n",
       "Polyester 100%                                                       295\n",
       "Organic Cotton 100%                                                  285\n",
       "76% Cotton 20% Polyester 4% Spandex %                                278\n",
       "60% Cotton 40% Polyester 100%                                        247\n",
       "95% Viscose-5% Elastan 100%                                          242\n",
       "90% Cotton - 10% Viscose %                                           191\n",
       "100% Cotton %                                                        179\n",
       "68% BCI Cotton 32% Recycle Polyester %                               178\n",
       "80% BCI Cotton Combed Compact 20% Polyester %                        172\n",
       "60/40 CVC %                                                          154\n",
       "49% Virgin Cotton 26% Recycle Cotton 20% Polyester 5% Viscose %      136\n",
       "100% Polyester %                                                     116\n",
       "99% Cotton-1% Viscose 100%                                           106\n",
       "Name: count, dtype: int64"
      ]
     },
     "execution_count": 7,
     "metadata": {},
     "output_type": "execute_result"
    }
   ],
   "source": [
    "df['Composition'].value_counts()[:20]"
   ]
  },
  {
   "cell_type": "code",
   "execution_count": 8,
   "id": "89feb958-6b79-48a6-a131-db549b905b46",
   "metadata": {},
   "outputs": [
    {
     "data": {
      "text/plain": [
       "Color\n",
       "WHITE                                                  497\n",
       "BLACK                                                  487\n",
       "PUMA WHITE-01                                          433\n",
       "PUMA WHITE-COLORO-01                                   361\n",
       "GREY MARL-03                                           333\n",
       "                                                      ... \n",
       "POINSETTIA                                               1\n",
       "BLUE SHADOW 17-4020 TCX, MOOD INDIGO - 19-4025 TCX       1\n",
       "BURNT SIENNA - 17-1544 TCX                               1\n",
       "CARBON 48531                                             1\n",
       "INDIGO MARL BROS B0824                                   1\n",
       "Name: count, Length: 1636, dtype: int64"
      ]
     },
     "execution_count": 8,
     "metadata": {},
     "output_type": "execute_result"
    }
   ],
   "source": [
    "df['Color'].value_counts()"
   ]
  },
  {
   "cell_type": "code",
   "execution_count": 9,
   "id": "5de0d949-5332-4663-a370-9d0bfbbc1e2a",
   "metadata": {},
   "outputs": [
    {
     "data": {
      "text/plain": [
       "Color Range\n",
       "White Color                  2641\n",
       "Melange                      2146\n",
       "Average Color                1691\n",
       "Dark Color                   1552\n",
       "Black Color                  1472\n",
       "Light Color                  1038\n",
       "Wash                         1010\n",
       "Medium Color                  964\n",
       ",Navy                           7\n",
       "Melange,Medium Color            2\n",
       "White Color,Medium Color        1\n",
       "Name: count, dtype: int64"
      ]
     },
     "execution_count": 9,
     "metadata": {},
     "output_type": "execute_result"
    }
   ],
   "source": [
    "df['Color Range'].value_counts()"
   ]
  },
  {
   "cell_type": "code",
   "execution_count": 10,
   "id": "b0c3f61e-1428-4686-b7c1-0b996242a8fb",
   "metadata": {},
   "outputs": [
    {
     "data": {
      "text/plain": [
       "Stich\n",
       "2.85               1161\n",
       "2.90                907\n",
       "3.15/1.15           557\n",
       "12.00/13.00         537\n",
       "2.88                451\n",
       "                   ... \n",
       "1.70/0.75             1\n",
       "3.10/1.65/1.10        1\n",
       "1.55/1.30/0.60        1\n",
       "3.10/1.100            1\n",
       "1.70/0.80             1\n",
       "Name: count, Length: 345, dtype: int64"
      ]
     },
     "execution_count": 10,
     "metadata": {},
     "output_type": "execute_result"
    }
   ],
   "source": [
    "df['Stich'].value_counts()"
   ]
  },
  {
   "cell_type": "code",
   "execution_count": 11,
   "id": "fb347181-7e26-4793-bf26-213b37c27e7b",
   "metadata": {},
   "outputs": [
    {
     "data": {
      "text/plain": [
       "M/C Brand                   950\n",
       "Production Date               0\n",
       "M/C Dia & Gauge               0\n",
       "Body Part                    52\n",
       "Booking Type               1388\n",
       "Yarn Count                   33\n",
       "Lot                          36\n",
       "Construction                  0\n",
       "Composition                  52\n",
       "Color                         4\n",
       "Color Range                  45\n",
       "Stich                         0\n",
       "Dia                           0\n",
       "GSM                           0\n",
       "SHIFT-A                       0\n",
       "SHIFT-B                       0\n",
       "SHIFT-C                       0\n",
       "Without Shift(Outbound)      52\n",
       "Shift Total                   0\n",
       "Machine Total               359\n",
       "Reject Qty                 4448\n",
       "dtype: int64"
      ]
     },
     "execution_count": 11,
     "metadata": {},
     "output_type": "execute_result"
    }
   ],
   "source": [
    "df.isna().sum()"
   ]
  },
  {
   "cell_type": "code",
   "execution_count": 12,
   "id": "2a4f74b3",
   "metadata": {},
   "outputs": [],
   "source": [
    "#in maximum cases the factory used Fukuhara machine so we can fill the missing values with Fukuhara\n",
    "df['M/C Brand']= df['M/C Brand'].fillna('Fukuhara')"
   ]
  },
  {
   "cell_type": "code",
   "execution_count": 13,
   "id": "04141311",
   "metadata": {},
   "outputs": [],
   "source": [
    "#it seems the excel file auto convert the datatype to date time type; so lets convert it as string\n",
    "df['Yarn Count']= df['Yarn Count'].apply(lambda x: str(x.day)+'/'+'1' if type(x).__name__ == 'datetime' else x)"
   ]
  },
  {
   "cell_type": "code",
   "execution_count": 14,
   "id": "749050cd",
   "metadata": {},
   "outputs": [
    {
     "data": {
      "text/plain": [
       "33"
      ]
     },
     "execution_count": 14,
     "metadata": {},
     "output_type": "execute_result"
    }
   ],
   "source": [
    "df['Yarn Count'].isna().sum()"
   ]
  },
  {
   "cell_type": "code",
   "execution_count": 15,
   "id": "d350c427",
   "metadata": {},
   "outputs": [],
   "source": [
    "# the yarn count has 33 missing values- filling the yarn count"
   ]
  },
  {
   "cell_type": "markdown",
   "id": "2c89b777",
   "metadata": {},
   "source": [
    "### Filling the yarn missing counts: 33 yarn count values are missing, we know yarn count is closely related to GSM and Body Parts, so we will take the missing values from GSM and body parts"
   ]
  },
  {
   "cell_type": "code",
   "execution_count": 16,
   "id": "f726d7d7",
   "metadata": {},
   "outputs": [],
   "source": [
    "#making a dataframe of the missing yarn_count values \n",
    "body_part_ =[]\n",
    "count_ =[]\n",
    "\n",
    "gsm_ =[]\n",
    "for body_part, gsm in zip(df[df['Yarn Count'].isna()]['Body Part'],\n",
    "                         df[df['Yarn Count'].isna()]['GSM']):\n",
    "    body_part_.append(body_part)\n",
    "    gsm_.append(gsm)\n",
    "    try:\n",
    "        count_.append(df[(df['Body Part'] == body_part) & (df['GSM'] == gsm)]['Yarn Count'].value_counts().index[0])\n",
    "    except:\n",
    "        count_.append('30/1')"
   ]
  },
  {
   "cell_type": "code",
   "execution_count": 17,
   "id": "e53a6a68",
   "metadata": {},
   "outputs": [
    {
     "data": {
      "text/html": [
       "<div>\n",
       "<style scoped>\n",
       "    .dataframe tbody tr th:only-of-type {\n",
       "        vertical-align: middle;\n",
       "    }\n",
       "\n",
       "    .dataframe tbody tr th {\n",
       "        vertical-align: top;\n",
       "    }\n",
       "\n",
       "    .dataframe thead th {\n",
       "        text-align: right;\n",
       "    }\n",
       "</style>\n",
       "<table border=\"1\" class=\"dataframe\">\n",
       "  <thead>\n",
       "    <tr style=\"text-align: right;\">\n",
       "      <th></th>\n",
       "      <th>Body_Part</th>\n",
       "      <th>GSM</th>\n",
       "      <th>Yarn_count</th>\n",
       "    </tr>\n",
       "  </thead>\n",
       "  <tbody>\n",
       "    <tr>\n",
       "      <th>0</th>\n",
       "      <td>Main Fabric Top</td>\n",
       "      <td>320</td>\n",
       "      <td>34/1,20/D,50D/36F</td>\n",
       "    </tr>\n",
       "    <tr>\n",
       "      <th>1</th>\n",
       "      <td>Collar</td>\n",
       "      <td>650</td>\n",
       "      <td>150D/144F</td>\n",
       "    </tr>\n",
       "    <tr>\n",
       "      <th>2</th>\n",
       "      <td>Collar</td>\n",
       "      <td>650</td>\n",
       "      <td>150D/144F</td>\n",
       "    </tr>\n",
       "    <tr>\n",
       "      <th>3</th>\n",
       "      <td>Collar</td>\n",
       "      <td>650</td>\n",
       "      <td>150D/144F</td>\n",
       "    </tr>\n",
       "    <tr>\n",
       "      <th>4</th>\n",
       "      <td>Body</td>\n",
       "      <td>200</td>\n",
       "      <td>30/1,40/D</td>\n",
       "    </tr>\n",
       "  </tbody>\n",
       "</table>\n",
       "</div>"
      ],
      "text/plain": [
       "         Body_Part  GSM         Yarn_count\n",
       "0  Main Fabric Top  320  34/1,20/D,50D/36F\n",
       "1           Collar  650          150D/144F\n",
       "2           Collar  650          150D/144F\n",
       "3           Collar  650          150D/144F\n",
       "4             Body  200          30/1,40/D"
      ]
     },
     "execution_count": 17,
     "metadata": {},
     "output_type": "execute_result"
    }
   ],
   "source": [
    "filling_vlaues_count= pd.DataFrame({'Body_Part': body_part_, 'GSM': gsm_, 'Yarn_count': count_ })\n",
    "filling_vlaues_count['GSM'] = filling_vlaues_count['GSM'].astype(int)\n",
    "filling_vlaues_count.head()"
   ]
  },
  {
   "cell_type": "code",
   "execution_count": 18,
   "id": "6ae71c06",
   "metadata": {},
   "outputs": [],
   "source": [
    "#to extract the count from gsm and body_part\n",
    "def extract_count(gsm):\n",
    "    return filling_vlaues_count.apply(lambda x: True if x['GSM'] == gsm else False , axis=1)"
   ]
  },
  {
   "cell_type": "code",
   "execution_count": 19,
   "id": "75190cb1",
   "metadata": {},
   "outputs": [
    {
     "data": {
      "text/plain": [
       "array(['34/1,20/D', '34/1,20/D', '34/1,20/D', '34/1,20/D', '28/1',\n",
       "       '34/1,20/D', '28/1', '40/1,20/D'], dtype=object)"
      ]
     },
     "execution_count": 19,
     "metadata": {},
     "output_type": "execute_result"
    }
   ],
   "source": [
    "filling_vlaues_count[extract_count(160)]['Yarn_count'].values"
   ]
  },
  {
   "cell_type": "code",
   "execution_count": 20,
   "id": "7d58a6ae",
   "metadata": {},
   "outputs": [
    {
     "data": {
      "text/plain": [
       "array(['34/1,20/D,50D/36F', '34/1,20/D,50D/36F'], dtype=object)"
      ]
     },
     "execution_count": 20,
     "metadata": {},
     "output_type": "execute_result"
    }
   ],
   "source": [
    "filling_vlaues_count[extract_count(320)]['Yarn_count'].values"
   ]
  },
  {
   "cell_type": "code",
   "execution_count": 21,
   "id": "845a528a",
   "metadata": {},
   "outputs": [],
   "source": [
    "df['Yarn_Count']= df.apply(lambda x: filling_vlaues_count[extract_count(int(x['GSM']))]['Yarn_count'].values[0]\n",
    "         if pd.isna(x['Yarn Count']) else x['Yarn Count'] , axis=1)"
   ]
  },
  {
   "cell_type": "code",
   "execution_count": 22,
   "id": "af573975",
   "metadata": {},
   "outputs": [
    {
     "data": {
      "text/plain": [
       "0"
      ]
     },
     "execution_count": 22,
     "metadata": {},
     "output_type": "execute_result"
    }
   ],
   "source": [
    "df['Yarn_Count'].isna().sum()"
   ]
  },
  {
   "cell_type": "code",
   "execution_count": 23,
   "id": "350340cd",
   "metadata": {},
   "outputs": [],
   "source": [
    "#lets drop the Yarn Count column\n",
    "df = df.drop('Yarn Count', axis=1)"
   ]
  },
  {
   "cell_type": "markdown",
   "id": "074132ea",
   "metadata": {},
   "source": [
    "### GSM tweaking "
   ]
  },
  {
   "cell_type": "code",
   "execution_count": 24,
   "id": "864b4e2a",
   "metadata": {},
   "outputs": [],
   "source": [
    "gsm_counts = df['GSM'].value_counts()\n",
    "# gsm_counts\n",
    "#it seems some GSM are very rare but close to another available GSM, so lets merge them.\n",
    "# 156==> 155; 164==>165; 195 ==> 190; 205 == > 200; 283 ==> 285;  295 ==> ; 305 ==> ; 310 ==>305 ;\n",
    "#410 == > 400;"
   ]
  },
  {
   "cell_type": "code",
   "execution_count": 25,
   "id": "d90bb6b1",
   "metadata": {},
   "outputs": [],
   "source": [
    "df['GSM']= df['GSM'].replace([156,164,283 ], [156, 165, 285])"
   ]
  },
  {
   "cell_type": "markdown",
   "id": "f3a442d0",
   "metadata": {},
   "source": [
    "## Filling Body Pats"
   ]
  },
  {
   "cell_type": "code",
   "execution_count": 26,
   "id": "a9785415",
   "metadata": {},
   "outputs": [
    {
     "data": {
      "text/plain": [
       "M/C Brand                     0\n",
       "Production Date               0\n",
       "M/C Dia & Gauge               0\n",
       "Body Part                    52\n",
       "Booking Type               1388\n",
       "Lot                          36\n",
       "Construction                  0\n",
       "Composition                  52\n",
       "Color                         4\n",
       "Color Range                  45\n",
       "Stich                         0\n",
       "Dia                           0\n",
       "GSM                           0\n",
       "SHIFT-A                       0\n",
       "SHIFT-B                       0\n",
       "SHIFT-C                       0\n",
       "Without Shift(Outbound)      52\n",
       "Shift Total                   0\n",
       "Machine Total               359\n",
       "Reject Qty                 4448\n",
       "Yarn_Count                    0\n",
       "dtype: int64"
      ]
     },
     "execution_count": 26,
     "metadata": {},
     "output_type": "execute_result"
    }
   ],
   "source": [
    "df.isna().sum()"
   ]
  },
  {
   "cell_type": "code",
   "execution_count": 27,
   "id": "35f22bf8",
   "metadata": {},
   "outputs": [],
   "source": [
    "def fill_body_part(x):\n",
    "    if x['GSM'] == 350:\n",
    "        return 'Rib'\n",
    "    elif x['GSM'] == 295:\n",
    "        return 'Armhole Piping'\n",
    "    elif x['GSM'] == 170:\n",
    "        return 'body'\n",
    "    elif x['GSM'] == 185:\n",
    "        return 'Pocketing Bottom'\n",
    "    else:\n",
    "        return 'Body'\n"
   ]
  },
  {
   "cell_type": "code",
   "execution_count": 28,
   "id": "21d9f991",
   "metadata": {},
   "outputs": [],
   "source": [
    "df['Body_part']= df.apply(lambda x: fill_body_part(x) if pd.isna(x['Body Part']) else x['Body Part'], axis=1)"
   ]
  },
  {
   "cell_type": "code",
   "execution_count": 29,
   "id": "124f17c4",
   "metadata": {},
   "outputs": [],
   "source": [
    "df['Yarn_count_length']= df['Yarn_Count'].apply(lambda x: len(x.split(',')))"
   ]
  },
  {
   "cell_type": "code",
   "execution_count": 30,
   "id": "f966aaab",
   "metadata": {},
   "outputs": [],
   "source": [
    "# multiple_construction_df =df[df['Yarn_count_length']>1][['Construction','Composition', 'Stich','Yarn_Count','Yarn_count_length'] ]"
   ]
  },
  {
   "cell_type": "code",
   "execution_count": 31,
   "id": "f0983bbe-9c2e-4dcf-acf3-b4442a882e2d",
   "metadata": {},
   "outputs": [],
   "source": [
    "# multiple_construction_df.groupby('Construction').first().sort_values(by='Yarn_count_length', ascending= False)"
   ]
  },
  {
   "cell_type": "code",
   "execution_count": 32,
   "id": "664c240f",
   "metadata": {},
   "outputs": [],
   "source": [
    "# df.isna().sum()"
   ]
  },
  {
   "cell_type": "markdown",
   "id": "02a1c7b1",
   "metadata": {},
   "source": [
    "### Filling the Composition"
   ]
  },
  {
   "cell_type": "code",
   "execution_count": 33,
   "id": "61e8ea4f",
   "metadata": {},
   "outputs": [],
   "source": [
    "#the composition colum was cleaned on the bassis of missing construction\n",
    "df['Construction']= df.apply(lambda x: x['Construction'].split(',')[0] if pd.isna(x['Composition'])\n",
    "                             else x['Construction'], axis=1)"
   ]
  },
  {
   "cell_type": "code",
   "execution_count": 34,
   "id": "5c8ccd55",
   "metadata": {},
   "outputs": [],
   "source": [
    "#here we haved taken the composition from the construction \n",
    "df['Composition']= df.apply(lambda x: x['Construction'].split(',')[-1]\n",
    "         if pd.isna(x['Composition']) else x['Composition'], axis=1)"
   ]
  },
  {
   "cell_type": "markdown",
   "id": "2b627d75",
   "metadata": {},
   "source": [
    "### Machine Total is a cumulative production of a single machine for upto few days. so we can not fill the  missing values of machine total. However,we can infer the mean production by using Pivot_table  "
   ]
  },
  {
   "cell_type": "markdown",
   "id": "1efb56d8",
   "metadata": {},
   "source": [
    "### Machine total is the total production per machine "
   ]
  },
  {
   "cell_type": "code",
   "execution_count": 35,
   "id": "d0e5bb3c",
   "metadata": {},
   "outputs": [],
   "source": [
    "df['M/C Brand']=df['M/C Brand'].replace('JiunnLong', 'Jiunn Long')"
   ]
  },
  {
   "cell_type": "code",
   "execution_count": 36,
   "id": "b022a7a1",
   "metadata": {},
   "outputs": [],
   "source": [
    "# pd.pivot_table(df, index=['M/C Brand'], values=['Machine Total'] )"
   ]
  },
  {
   "cell_type": "markdown",
   "id": "84843660",
   "metadata": {},
   "source": [
    "### Lot number is significant in determininign the color and color range, so we will use lot number to fill color and color range "
   ]
  },
  {
   "cell_type": "code",
   "execution_count": 37,
   "id": "1a529983",
   "metadata": {},
   "outputs": [],
   "source": [
    "df['Lot']= df['Lot'].apply(lambda x: str(x).strip())\n",
    "# df['Color']= df['Color'].apply(lambda x: str(x).strip() if x is None)"
   ]
  },
  {
   "cell_type": "code",
   "execution_count": 38,
   "id": "f4fc8ea1",
   "metadata": {},
   "outputs": [],
   "source": [
    "lot_number =[]\n",
    "for i in df[df['Color'].isna()]['Lot']:\n",
    "    lot_number.append(str(i).strip())"
   ]
  },
  {
   "cell_type": "code",
   "execution_count": 39,
   "id": "13abf35b",
   "metadata": {},
   "outputs": [
    {
     "data": {
      "text/plain": [
       "['PU-JA3181E', 'PU-801-1,PU-Y223009WR', 'PU-Y223009WR', 'PU-Y223009WR']"
      ]
     },
     "execution_count": 39,
     "metadata": {},
     "output_type": "execute_result"
    }
   ],
   "source": [
    "lot_number"
   ]
  },
  {
   "cell_type": "code",
   "execution_count": 40,
   "id": "c29caf7a",
   "metadata": {},
   "outputs": [
    {
     "data": {
      "text/plain": [
       "2437                         NaN\n",
       "4988    LIGHT GRAY HEATHER BC04 \n",
       "9165         LIGHT GRAY HEATHER \n",
       "9441         LIGHT GRAY HEATHER \n",
       "Name: Color, dtype: object"
      ]
     },
     "execution_count": 40,
     "metadata": {},
     "output_type": "execute_result"
    }
   ],
   "source": [
    "df[df['Lot']== 'PU-JA3181E']['Color']"
   ]
  },
  {
   "cell_type": "code",
   "execution_count": 41,
   "id": "f9d55914",
   "metadata": {},
   "outputs": [
    {
     "data": {
      "text/plain": [
       "5831    Melange \n",
       "Name: Color Range, dtype: object"
      ]
     },
     "execution_count": 41,
     "metadata": {},
     "output_type": "execute_result"
    }
   ],
   "source": [
    "df[df['Lot']=='PU-801-1,PU-Y223009WR']['Color Range']"
   ]
  },
  {
   "cell_type": "code",
   "execution_count": 42,
   "id": "6a0aacf5",
   "metadata": {},
   "outputs": [
    {
     "data": {
      "text/plain": [
       "5837    Melange \n",
       "5993    Melange \n",
       "Name: Color Range, dtype: object"
      ]
     },
     "execution_count": 42,
     "metadata": {},
     "output_type": "execute_result"
    }
   ],
   "source": [
    "df[df['Lot']=='PU-Y223009WR']['Color Range']"
   ]
  },
  {
   "cell_type": "code",
   "execution_count": 43,
   "id": "22c9cc3e",
   "metadata": {},
   "outputs": [
    {
     "data": {
      "text/plain": [
       "5837    Melange \n",
       "5993    Melange \n",
       "Name: Color Range, dtype: object"
      ]
     },
     "execution_count": 43,
     "metadata": {},
     "output_type": "execute_result"
    }
   ],
   "source": [
    "df[df['Lot']=='PU-Y223009WR']['Color Range']"
   ]
  },
  {
   "cell_type": "code",
   "execution_count": 44,
   "id": "1931d206",
   "metadata": {},
   "outputs": [],
   "source": [
    "color_fill_dict = {'PU-JA3181E': 'LIGHT GRAY HEATHER', 'PU-Y223009WR': 'Melange', \n",
    "                   'PU-801-1,PU-Y223009WR': 'Melange',\n",
    " 'PU-Y223009WR': 'Melange'  }"
   ]
  },
  {
   "cell_type": "code",
   "execution_count": 45,
   "id": "41272ec0",
   "metadata": {},
   "outputs": [],
   "source": [
    "df['Color']= df['Color'].fillna(df['Lot'].apply(lambda x: color_fill_dict[x] if x\n",
    "                                                       in color_fill_dict.keys() else 0))\n"
   ]
  },
  {
   "cell_type": "markdown",
   "id": "7d3842ed",
   "metadata": {},
   "source": [
    "### Color Range Fill up"
   ]
  },
  {
   "cell_type": "markdown",
   "id": "b3ddfe89",
   "metadata": {},
   "source": [
    "#### filling color range with the value of color as color and color range are very similar"
   ]
  },
  {
   "cell_type": "code",
   "execution_count": 46,
   "id": "8dc11622",
   "metadata": {},
   "outputs": [],
   "source": [
    "for ind, value in zip(df[df['Color Range'].isna()]['Color'].index, df[df['Color Range'].isna()]['Color'].values):\n",
    "    df.loc[ind, 'Color Range']= value.strip()\n",
    "    "
   ]
  },
  {
   "cell_type": "code",
   "execution_count": 47,
   "id": "b57dea72",
   "metadata": {},
   "outputs": [
    {
     "data": {
      "text/plain": [
       "M/C Brand                     0\n",
       "Production Date               0\n",
       "M/C Dia & Gauge               0\n",
       "Body Part                    52\n",
       "Booking Type               1388\n",
       "Lot                           0\n",
       "Construction                  0\n",
       "Composition                   0\n",
       "Color                         0\n",
       "Color Range                   0\n",
       "Stich                         0\n",
       "Dia                           0\n",
       "GSM                           0\n",
       "SHIFT-A                       0\n",
       "SHIFT-B                       0\n",
       "SHIFT-C                       0\n",
       "Without Shift(Outbound)      52\n",
       "Shift Total                   0\n",
       "Machine Total               359\n",
       "Reject Qty                 4448\n",
       "Yarn_Count                    0\n",
       "Body_part                     0\n",
       "Yarn_count_length             0\n",
       "dtype: int64"
      ]
     },
     "execution_count": 47,
     "metadata": {},
     "output_type": "execute_result"
    }
   ],
   "source": [
    "df.isna().sum()"
   ]
  },
  {
   "cell_type": "markdown",
   "id": "7066c54d",
   "metadata": {},
   "source": [
    "### filling body part"
   ]
  },
  {
   "cell_type": "code",
   "execution_count": 48,
   "id": "54989b29",
   "metadata": {},
   "outputs": [
    {
     "data": {
      "text/plain": [
       "Body Part\n",
       "Body                  80\n",
       "Main Fabric Top       76\n",
       "Main Fabric Bottom     2\n",
       "Name: count, dtype: int64"
      ]
     },
     "execution_count": 48,
     "metadata": {},
     "output_type": "execute_result"
    }
   ],
   "source": [
    "df[df['Construction']=='Interlock']['Body Part'].value_counts()"
   ]
  },
  {
   "cell_type": "code",
   "execution_count": 49,
   "id": "5b20bf6a",
   "metadata": {},
   "outputs": [
    {
     "data": {
      "text/plain": [
       "Body Part\n",
       "Main Fabric Top       54\n",
       "Body                  26\n",
       "Main Fabric Bottom    20\n",
       "Body Hood Pocket      11\n",
       "Bottom                 3\n",
       "Top Bottom             2\n",
       "Body [Top Part]        1\n",
       "Name: count, dtype: int64"
      ]
     },
     "execution_count": 49,
     "metadata": {},
     "output_type": "execute_result"
    }
   ],
   "source": [
    "df[df['Construction']=='Fleece']['Body Part'].value_counts()"
   ]
  },
  {
   "cell_type": "markdown",
   "id": "772af10b",
   "metadata": {},
   "source": [
    "### filling the missing body parts"
   ]
  },
  {
   "cell_type": "code",
   "execution_count": 50,
   "id": "b708536f",
   "metadata": {},
   "outputs": [],
   "source": [
    "for ind in (df['Body Part'].isna()).index:\n",
    "    if df.loc[ind, 'Construction'] == 'Interlock':\n",
    "        df.loc[ind, 'Body Part'] == 'Body'\n",
    "    elif df.loc[ind, 'Construction'] == 'Fleece':\n",
    "         df.loc[ind, 'Body Part'] == 'Main Fabric Top'\n"
   ]
  },
  {
   "cell_type": "code",
   "execution_count": 51,
   "id": "96137629",
   "metadata": {},
   "outputs": [],
   "source": [
    "df['Booking Type']= df['Booking Type'].fillna('Other')"
   ]
  },
  {
   "cell_type": "code",
   "execution_count": 52,
   "id": "feeb5473-7464-439b-a1ec-e0b3cdbda6c4",
   "metadata": {},
   "outputs": [
    {
     "data": {
      "text/plain": [
       "M/C Brand                     0\n",
       "Production Date               0\n",
       "M/C Dia & Gauge               0\n",
       "Body Part                    52\n",
       "Booking Type                  0\n",
       "Lot                           0\n",
       "Construction                  0\n",
       "Composition                   0\n",
       "Color                         0\n",
       "Color Range                   0\n",
       "Stich                         0\n",
       "Dia                           0\n",
       "GSM                           0\n",
       "SHIFT-A                       0\n",
       "SHIFT-B                       0\n",
       "SHIFT-C                       0\n",
       "Without Shift(Outbound)      52\n",
       "Shift Total                   0\n",
       "Machine Total               359\n",
       "Reject Qty                 4448\n",
       "Yarn_Count                    0\n",
       "Body_part                     0\n",
       "Yarn_count_length             0\n",
       "dtype: int64"
      ]
     },
     "execution_count": 52,
     "metadata": {},
     "output_type": "execute_result"
    }
   ],
   "source": [
    "df.isna().sum()"
   ]
  },
  {
   "cell_type": "markdown",
   "id": "1929d838",
   "metadata": {},
   "source": [
    "### data types manipulation"
   ]
  },
  {
   "cell_type": "code",
   "execution_count": 53,
   "id": "392339ae",
   "metadata": {},
   "outputs": [
    {
     "name": "stdout",
     "output_type": "stream",
     "text": [
      "<class 'pandas.core.frame.DataFrame'>\n",
      "RangeIndex: 12569 entries, 0 to 12568\n",
      "Data columns (total 23 columns):\n",
      " #   Column                   Non-Null Count  Dtype  \n",
      "---  ------                   --------------  -----  \n",
      " 0   M/C Brand                12569 non-null  object \n",
      " 1   Production Date          12569 non-null  object \n",
      " 2   M/C Dia & Gauge          12569 non-null  object \n",
      " 3   Body Part                12517 non-null  object \n",
      " 4   Booking Type             12569 non-null  object \n",
      " 5   Lot                      12569 non-null  object \n",
      " 6   Construction             12569 non-null  object \n",
      " 7   Composition              12569 non-null  object \n",
      " 8   Color                    12569 non-null  object \n",
      " 9   Color Range              12569 non-null  object \n",
      " 10  Stich                    12569 non-null  object \n",
      " 11  Dia                      12569 non-null  object \n",
      " 12  GSM                      12569 non-null  object \n",
      " 13  SHIFT-A                  12569 non-null  float64\n",
      " 14  SHIFT-B                  12569 non-null  float64\n",
      " 15  SHIFT-C                  12569 non-null  float64\n",
      " 16  Without Shift(Outbound)  12517 non-null  float64\n",
      " 17  Shift Total              12569 non-null  float64\n",
      " 18  Machine Total            12210 non-null  float64\n",
      " 19  Reject Qty               8121 non-null   object \n",
      " 20  Yarn_Count               12569 non-null  object \n",
      " 21  Body_part                12569 non-null  object \n",
      " 22  Yarn_count_length        12569 non-null  int64  \n",
      "dtypes: float64(6), int64(1), object(16)\n",
      "memory usage: 2.2+ MB\n"
     ]
    }
   ],
   "source": [
    "df.info()"
   ]
  },
  {
   "cell_type": "code",
   "execution_count": 54,
   "id": "d0552621-e98c-472d-8a02-c910c2c50574",
   "metadata": {},
   "outputs": [],
   "source": [
    "# df['Production Date']"
   ]
  },
  {
   "cell_type": "code",
   "execution_count": 55,
   "id": "d47e1bb4",
   "metadata": {},
   "outputs": [],
   "source": [
    "def dia_strip(x):\n",
    "    try:\n",
    "        return int(x)\n",
    "    except:\n",
    "        try: \n",
    "            return int(x.split('/')[0])\n",
    "        except:\n",
    "            try:\n",
    "                return int(x.split(',')[0])\n",
    "            except:\n",
    "                if 'any' in x.lower():\n",
    "                    return 0\n",
    "                else:\n",
    "                    return x"
   ]
  },
  {
   "cell_type": "code",
   "execution_count": 56,
   "id": "97acb16e",
   "metadata": {},
   "outputs": [],
   "source": [
    "df['m/c_dia']= df['M/C Dia & Gauge'].str.split('X', expand= True)[0].astype(int)\n",
    "df['m/c_gauge']= df['M/C Dia & Gauge'].str.split('X', expand= True)[1].astype(int)"
   ]
  },
  {
   "cell_type": "code",
   "execution_count": 57,
   "id": "584e2ec9",
   "metadata": {},
   "outputs": [],
   "source": [
    "df['Dia']= df['Dia'].str.strip().replace('ANY', 'any')"
   ]
  },
  {
   "cell_type": "code",
   "execution_count": 58,
   "id": "799b6a84",
   "metadata": {},
   "outputs": [],
   "source": [
    "def dia_splitter(x):\n",
    "    try:\n",
    "        return int(x.split('/')[0])\n",
    "    except:\n",
    "        try:\n",
    "            return int(x.split(',')[0])\n",
    "        except :\n",
    "            return x\n",
    "    "
   ]
  },
  {
   "cell_type": "code",
   "execution_count": 59,
   "id": "94103993",
   "metadata": {},
   "outputs": [],
   "source": [
    "def dia_converter(x):\n",
    "    try:\n",
    "        return int(x)\n",
    "    except:\n",
    "        return x"
   ]
  },
  {
   "cell_type": "code",
   "execution_count": 60,
   "id": "4ad26962",
   "metadata": {},
   "outputs": [],
   "source": [
    "df['fabric_dia_1']=df['Dia'].apply(lambda x: dia_splitter(x))"
   ]
  },
  {
   "cell_type": "code",
   "execution_count": 61,
   "id": "2c5403de",
   "metadata": {},
   "outputs": [],
   "source": [
    "df['fabric_dia_1']= df['fabric_dia_1'].apply(lambda x: dia_converter(x))"
   ]
  },
  {
   "cell_type": "code",
   "execution_count": 62,
   "id": "d054da07",
   "metadata": {},
   "outputs": [],
   "source": [
    "def dia_splitter_2(x):\n",
    "    try:\n",
    "        return int(x.split('/')[1])\n",
    "    except:\n",
    "        try:\n",
    "            return int(x.split(',')[1])\n",
    "        except :\n",
    "            return x\n",
    "    "
   ]
  },
  {
   "cell_type": "code",
   "execution_count": 63,
   "id": "5eaaae3e",
   "metadata": {},
   "outputs": [],
   "source": [
    "df['fabric_dia_2']= df['Dia'].apply(lambda x: dia_splitter_2(x))"
   ]
  },
  {
   "cell_type": "code",
   "execution_count": 64,
   "id": "060b9636",
   "metadata": {},
   "outputs": [],
   "source": [
    "df['fabric_dia_2']= df['fabric_dia_2'].apply(lambda x: dia_converter(x))"
   ]
  },
  {
   "cell_type": "code",
   "execution_count": 65,
   "id": "02148dd3",
   "metadata": {},
   "outputs": [],
   "source": [
    "def contraction(x):\n",
    "    try:\n",
    "        return x['fabric_dia_1']/x['m/c_dia']\n",
    "    except:\n",
    "        return 0"
   ]
  },
  {
   "cell_type": "code",
   "execution_count": 66,
   "id": "4541a527",
   "metadata": {},
   "outputs": [],
   "source": [
    "def contraction_2(x):\n",
    "    try:\n",
    "        return x['fabric_dia_2']/x['m/c_dia']\n",
    "    except:\n",
    "        return 0"
   ]
  },
  {
   "cell_type": "code",
   "execution_count": 67,
   "id": "61db773f",
   "metadata": {},
   "outputs": [],
   "source": [
    "df['contraction_1']= df.apply(lambda x: contraction(x), axis=1)"
   ]
  },
  {
   "cell_type": "code",
   "execution_count": 68,
   "id": "c3a824ba",
   "metadata": {},
   "outputs": [],
   "source": [
    "df['contraction_2']= df.apply(lambda x: contraction_2(x), axis=1)"
   ]
  },
  {
   "cell_type": "code",
   "execution_count": 69,
   "id": "8da181a3",
   "metadata": {},
   "outputs": [],
   "source": [
    "df['contraction']= (df['contraction_1'] + df['contraction_2'])/2"
   ]
  },
  {
   "cell_type": "code",
   "execution_count": 70,
   "id": "374f85c2",
   "metadata": {},
   "outputs": [],
   "source": [
    "df['Construction']= df['Construction'].replace('L S/J', 'LS/J')\n"
   ]
  },
  {
   "cell_type": "markdown",
   "id": "bdefad09-1232-401d-894e-9895d5318404",
   "metadata": {},
   "source": [
    "# Feature Engineering"
   ]
  },
  {
   "cell_type": "code",
   "execution_count": 71,
   "id": "53e79dcc",
   "metadata": {},
   "outputs": [],
   "source": [
    "#number of feeders\n",
    "def feeder_number(x):\n",
    "    if (x['M/C Brand'] == 'Fukuhara') & ((x['Construction'] == 'S/J') | (x['Construction'] == 'LS/J')) :\n",
    "        return x['m/c_dia']*3 + 6\n",
    "    elif (x['M/C Brand'] == 'Fukuhara') & (x['Construction'] != 'S/J') & (x['Construction'] != 'LS/J')  :\n",
    "        return x['m/c_dia']*3\n",
    "    else:\n",
    "        return x['m/c_dia']*2"
   ]
  },
  {
   "cell_type": "code",
   "execution_count": 72,
   "id": "c1706c56",
   "metadata": {},
   "outputs": [],
   "source": [
    "df['number_of_feeders']= df.apply(lambda x: feeder_number(x), axis=1 )"
   ]
  },
  {
   "cell_type": "code",
   "execution_count": 73,
   "id": "57529b23",
   "metadata": {},
   "outputs": [],
   "source": [
    "df['yarn_count_1'] = df['Yarn_Count'].str.split(',', expand = True)[0].str.split('/', expand = True)[0]"
   ]
  },
  {
   "cell_type": "code",
   "execution_count": 74,
   "id": "e4a2d513",
   "metadata": {},
   "outputs": [],
   "source": [
    "df['yarn_count_1']= df['Yarn_Count'].str.split(',', expand = True)[0]"
   ]
  },
  {
   "cell_type": "code",
   "execution_count": 75,
   "id": "1e3df9a5",
   "metadata": {},
   "outputs": [],
   "source": [
    "def count_converter(x):\n",
    "    try:\n",
    "        if 'D' not in x:\n",
    "            return 590.6/int(x[:2])\n",
    "        elif 'D' in x:\n",
    "            denier = int(x[:2])\n",
    "            return denier/9\n",
    "        else:\n",
    "            return 0\n",
    "    except:\n",
    "        return x"
   ]
  },
  {
   "cell_type": "code",
   "execution_count": 76,
   "id": "784acb66",
   "metadata": {},
   "outputs": [],
   "source": [
    "df['yarn_count_tex_1']= df['yarn_count_1'].apply(lambda x: count_converter(x))"
   ]
  },
  {
   "cell_type": "code",
   "execution_count": 77,
   "id": "a4b6f6d6",
   "metadata": {},
   "outputs": [],
   "source": [
    "# data['yarn_count_1'] = \n",
    "df['yarn_count_tex_2']= df['Yarn_Count'].str.split(',', expand = True)[1].apply(lambda x: count_converter(x))\n"
   ]
  },
  {
   "cell_type": "code",
   "execution_count": 78,
   "id": "15a2f90d",
   "metadata": {},
   "outputs": [],
   "source": [
    "df['yarn_count_tex_3']= df['Yarn_Count'].str.split(',', expand = True)[2].apply(lambda x: count_converter(x))\n"
   ]
  },
  {
   "cell_type": "code",
   "execution_count": 79,
   "id": "89fa31cd",
   "metadata": {},
   "outputs": [],
   "source": [
    "def stitch_splitter(x):\n",
    "    try:\n",
    "        if ',' in x:\n",
    "            return float(x.split(',')[0])\n",
    "        else:\n",
    "            return float(x)\n",
    "    except:\n",
    "        return x\n",
    "    "
   ]
  },
  {
   "cell_type": "code",
   "execution_count": 80,
   "id": "fc12acaa",
   "metadata": {},
   "outputs": [],
   "source": [
    "df['stitch_1']= df['Stich'].str.split('/', expand = True)[0].str.strip().apply(lambda x: stitch_splitter(x))\n"
   ]
  },
  {
   "cell_type": "code",
   "execution_count": 81,
   "id": "f166efd5",
   "metadata": {},
   "outputs": [],
   "source": [
    "# data['stitch_1']= \n",
    "df['stitch_2']= df['Stich'].str.split('/', expand = True)[1].str.strip().apply(lambda x: stitch_splitter(x))\n"
   ]
  },
  {
   "cell_type": "code",
   "execution_count": 82,
   "id": "f6b581c0",
   "metadata": {},
   "outputs": [],
   "source": [
    "df['stitch_3']= df['Stich'].str.split('/', expand = True)[2].str.strip().apply(lambda x: stitch_splitter(x))\n"
   ]
  },
  {
   "cell_type": "code",
   "execution_count": 83,
   "id": "f6d7f425",
   "metadata": {},
   "outputs": [],
   "source": [
    "def calculating_tightness_factor(x):\n",
    "    stitch = x['stitch_1']\n",
    "    tf = np.sqrt(x['yarn_count_tex_1'])/ stitch\n",
    "    return tf"
   ]
  },
  {
   "cell_type": "code",
   "execution_count": 84,
   "id": "5fe805a8",
   "metadata": {},
   "outputs": [],
   "source": [
    "df['tightness_factor']= df.apply(lambda x: calculating_tightness_factor(x), axis=1)"
   ]
  },
  {
   "cell_type": "markdown",
   "id": "dec748c3-454e-4fcd-84fe-cf3d29c74352",
   "metadata": {},
   "source": [
    "# Sorting "
   ]
  },
  {
   "cell_type": "code",
   "execution_count": 85,
   "id": "76105d25",
   "metadata": {},
   "outputs": [],
   "source": [
    "def composition_shorter(x):\n",
    "    if 'cotton' in x.lower() and '100' in x.lower():\n",
    "        return 'Cotton'\n",
    "    elif 'polyes' and '100' in x.lower():\n",
    "        return'Polyester'\n",
    "    elif 'cvc' in x.lower():\n",
    "        return 'Polyester'\n",
    "    elif ('cotton' or 'ctn') in x.lower() and ('polyester' or 'poly' ) in x.lower():\n",
    "        return 'Cotton_Polyester'\n",
    "    elif 'ctn' and 'poly' in x.lower():\n",
    "        return 'Cotton_Polyester'\n",
    "    elif 'cotton' and 'span' in x.lower():\n",
    "        return 'Cotton_Elastan'\n",
    "    elif ('cotton' or 'ctn' in x.lower()) and ('elast' or 'ly' or 'span') in x.lower() :\n",
    "        return 'Cotton_Elastan'\n",
    "    \n",
    "    elif 'cotton' and 'viscose' in x.lower():\n",
    "        return 'Cotton_Viscose'\n",
    "    else:\n",
    "        return 'other_cotton_blend'"
   ]
  },
  {
   "cell_type": "code",
   "execution_count": 86,
   "id": "faf3f078",
   "metadata": {},
   "outputs": [],
   "source": [
    "df['composition']= df['Composition'].apply(lambda x: composition_shorter(x))"
   ]
  },
  {
   "cell_type": "code",
   "execution_count": 87,
   "id": "2de56117-fcb3-454d-9635-b3e4f97d2444",
   "metadata": {},
   "outputs": [],
   "source": [
    "df= df.drop('Composition', axis=1)"
   ]
  },
  {
   "cell_type": "code",
   "execution_count": 88,
   "id": "f1f384f8",
   "metadata": {},
   "outputs": [],
   "source": [
    "def construction_shorter(x):\n",
    "    if 'ri' in x.lower():\n",
    "        return 'Rib'\n",
    "    elif 'fleece' in x.lower() or 'terry' in x.lower():\n",
    "        return 'Fleece_terry'\n",
    "    elif ('s/j' in x.lower())  and ('l' not in x.lower()) :\n",
    "        return 'S/J'\n",
    "    elif 'jers' in x.lower():\n",
    "        return 'S/J'\n",
    "    elif 'l' and 's/j' in x.lower():\n",
    "        return 'LS/J'\n",
    "    elif 'inter' in x.lower():\n",
    "        return 'Interlock'\n",
    "    elif 'mesh' in x.lower():\n",
    "        return 'Mesh'\n",
    "    elif 'pique' in x.lower():\n",
    "        return 'Pique'\n",
    "    else:\n",
    "        return 'other'"
   ]
  },
  {
   "cell_type": "code",
   "execution_count": 89,
   "id": "2f7982eb",
   "metadata": {},
   "outputs": [],
   "source": [
    "# data['composition_sorted']= \n",
    "df['construction']= df['Construction'].apply(lambda x: construction_shorter(x))"
   ]
  },
  {
   "cell_type": "code",
   "execution_count": 90,
   "id": "84fb5a2e-bf47-40f9-a846-286d88e03377",
   "metadata": {},
   "outputs": [],
   "source": [
    "df= df.drop('Construction', axis=1)"
   ]
  },
  {
   "cell_type": "code",
   "execution_count": 91,
   "id": "a929d4e4",
   "metadata": {},
   "outputs": [],
   "source": [
    "def body_part_shorter(x):\n",
    "    if 'Main Fabric Bottom' == x or 'bottom' in x.lower():\n",
    "        return 'Bottom'\n",
    "    elif 'top' in x.lower():\n",
    "        return 'Top'\n",
    "    elif 'body' in x.lower() :\n",
    "        return 'Body'\n",
    "    elif 'rib' in x.lower() :\n",
    "        return 'Rib'\n",
    "    elif 'neck' in x.lower():\n",
    "        return 'Rib'\n",
    "    elif 'collar' in x.lower():\n",
    "        return 'Rib'\n",
    "    elif 'cuff' in x.lower():\n",
    "        return 'Rib'\n",
    "    else: \n",
    "        return 'other'"
   ]
  },
  {
   "cell_type": "code",
   "execution_count": 92,
   "id": "6fa79e96",
   "metadata": {},
   "outputs": [],
   "source": [
    "df['body_part']= df['Body_part'].apply(lambda x: body_part_shorter(x))"
   ]
  },
  {
   "cell_type": "code",
   "execution_count": 93,
   "id": "f2ea651c-780d-4b8f-a145-b997598b4a11",
   "metadata": {},
   "outputs": [],
   "source": [
    "df= df.drop(['Body Part', 'Body_part'], axis=1)"
   ]
  },
  {
   "cell_type": "code",
   "execution_count": 94,
   "id": "bc3e2626",
   "metadata": {},
   "outputs": [],
   "source": [
    "def stitch_2_cleaner(x):\n",
    "    try:\n",
    "        return float(x)\n",
    "    except:\n",
    "        try:\n",
    "            return float(x.strip('.'))\n",
    "        except:\n",
    "            try:\n",
    "                if 'CM' in x:\n",
    "                    try:\n",
    "                        return float(x[:3])*10\n",
    "                    except:\n",
    "                        return x.split('-')[1][:3] \n",
    "                \n",
    "                elif '..' in x:\n",
    "                    return float(x.replace('..','.'))                    \n",
    "            except :\n",
    "                return x\n",
    "                "
   ]
  },
  {
   "cell_type": "code",
   "execution_count": 95,
   "id": "08d002ba",
   "metadata": {},
   "outputs": [],
   "source": [
    "df['stitch_2'] = df['stitch_2'].apply(lambda x: stitch_2_cleaner(x)).astype(float)"
   ]
  },
  {
   "cell_type": "code",
   "execution_count": 96,
   "id": "f68be2aa",
   "metadata": {},
   "outputs": [],
   "source": [
    "df['GSM']= df['GSM'].astype(int)"
   ]
  },
  {
   "cell_type": "code",
   "execution_count": 97,
   "id": "ee53b655-cbd3-4960-9d5a-f1ea1e39418a",
   "metadata": {},
   "outputs": [
    {
     "data": {
      "text/html": [
       "<div>\n",
       "<style scoped>\n",
       "    .dataframe tbody tr th:only-of-type {\n",
       "        vertical-align: middle;\n",
       "    }\n",
       "\n",
       "    .dataframe tbody tr th {\n",
       "        vertical-align: top;\n",
       "    }\n",
       "\n",
       "    .dataframe thead th {\n",
       "        text-align: right;\n",
       "    }\n",
       "</style>\n",
       "<table border=\"1\" class=\"dataframe\">\n",
       "  <thead>\n",
       "    <tr style=\"text-align: right;\">\n",
       "      <th></th>\n",
       "      <th>M/C Brand</th>\n",
       "      <th>Production Date</th>\n",
       "      <th>M/C Dia &amp; Gauge</th>\n",
       "      <th>Booking Type</th>\n",
       "      <th>Lot</th>\n",
       "      <th>Color</th>\n",
       "      <th>Color Range</th>\n",
       "      <th>Stich</th>\n",
       "      <th>Dia</th>\n",
       "      <th>GSM</th>\n",
       "      <th>...</th>\n",
       "      <th>yarn_count_tex_1</th>\n",
       "      <th>yarn_count_tex_2</th>\n",
       "      <th>yarn_count_tex_3</th>\n",
       "      <th>stitch_1</th>\n",
       "      <th>stitch_2</th>\n",
       "      <th>stitch_3</th>\n",
       "      <th>tightness_factor</th>\n",
       "      <th>composition</th>\n",
       "      <th>construction</th>\n",
       "      <th>body_part</th>\n",
       "    </tr>\n",
       "  </thead>\n",
       "  <tbody>\n",
       "    <tr>\n",
       "      <th>0</th>\n",
       "      <td>Fukuhara</td>\n",
       "      <td>01-06-2022</td>\n",
       "      <td>52 X 14</td>\n",
       "      <td>Main</td>\n",
       "      <td>MGF-SS-8</td>\n",
       "      <td>PURE WHITE 00010</td>\n",
       "      <td>White Color</td>\n",
       "      <td>4.75</td>\n",
       "      <td>52</td>\n",
       "      <td>700</td>\n",
       "      <td>...</td>\n",
       "      <td>24.608333</td>\n",
       "      <td>NaN</td>\n",
       "      <td>NaN</td>\n",
       "      <td>4.75</td>\n",
       "      <td>NaN</td>\n",
       "      <td>NaN</td>\n",
       "      <td>1.044353</td>\n",
       "      <td>Cotton</td>\n",
       "      <td>Rib</td>\n",
       "      <td>Rib</td>\n",
       "    </tr>\n",
       "    <tr>\n",
       "      <th>1</th>\n",
       "      <td>Fukuhara</td>\n",
       "      <td>01-06-2022</td>\n",
       "      <td>52 X 14</td>\n",
       "      <td>Main</td>\n",
       "      <td>MGF-SS-8</td>\n",
       "      <td>PURE WHITE 00010</td>\n",
       "      <td>White Color</td>\n",
       "      <td>4.75</td>\n",
       "      <td>52</td>\n",
       "      <td>700</td>\n",
       "      <td>...</td>\n",
       "      <td>24.608333</td>\n",
       "      <td>NaN</td>\n",
       "      <td>NaN</td>\n",
       "      <td>4.75</td>\n",
       "      <td>NaN</td>\n",
       "      <td>NaN</td>\n",
       "      <td>1.044353</td>\n",
       "      <td>Cotton</td>\n",
       "      <td>Rib</td>\n",
       "      <td>Rib</td>\n",
       "    </tr>\n",
       "    <tr>\n",
       "      <th>2</th>\n",
       "      <td>Fukuhara</td>\n",
       "      <td>01-06-2022</td>\n",
       "      <td>52 X 14</td>\n",
       "      <td>Main</td>\n",
       "      <td>MGF-63</td>\n",
       "      <td>CHARCOAL HEATHER - 00009</td>\n",
       "      <td>Wash</td>\n",
       "      <td>4.75</td>\n",
       "      <td>52</td>\n",
       "      <td>700</td>\n",
       "      <td>...</td>\n",
       "      <td>24.608333</td>\n",
       "      <td>NaN</td>\n",
       "      <td>NaN</td>\n",
       "      <td>4.75</td>\n",
       "      <td>NaN</td>\n",
       "      <td>NaN</td>\n",
       "      <td>1.044353</td>\n",
       "      <td>Cotton</td>\n",
       "      <td>Rib</td>\n",
       "      <td>Rib</td>\n",
       "    </tr>\n",
       "    <tr>\n",
       "      <th>3</th>\n",
       "      <td>Fukuhara</td>\n",
       "      <td>01-06-2022</td>\n",
       "      <td>52 X 14</td>\n",
       "      <td>Main</td>\n",
       "      <td>BF-22-10200,BF-22-12463</td>\n",
       "      <td>RIBBON RED[19-1663 TCX]; 5MM TIPPING-WHITE</td>\n",
       "      <td>Wash</td>\n",
       "      <td>4.70</td>\n",
       "      <td>52</td>\n",
       "      <td>700</td>\n",
       "      <td>...</td>\n",
       "      <td>24.608333</td>\n",
       "      <td>NaN</td>\n",
       "      <td>NaN</td>\n",
       "      <td>4.70</td>\n",
       "      <td>NaN</td>\n",
       "      <td>NaN</td>\n",
       "      <td>1.055464</td>\n",
       "      <td>Cotton</td>\n",
       "      <td>other</td>\n",
       "      <td>Rib</td>\n",
       "    </tr>\n",
       "    <tr>\n",
       "      <th>4</th>\n",
       "      <td>Fukuhara</td>\n",
       "      <td>01-06-2022</td>\n",
       "      <td>52 X 14</td>\n",
       "      <td>Main</td>\n",
       "      <td>BF-22-12463</td>\n",
       "      <td>RIBBON RED[19-1663 TCX]; 5MM TIPPING-WHITE</td>\n",
       "      <td>Wash</td>\n",
       "      <td>4.70</td>\n",
       "      <td>52</td>\n",
       "      <td>700</td>\n",
       "      <td>...</td>\n",
       "      <td>24.608333</td>\n",
       "      <td>NaN</td>\n",
       "      <td>NaN</td>\n",
       "      <td>4.70</td>\n",
       "      <td>NaN</td>\n",
       "      <td>NaN</td>\n",
       "      <td>1.055464</td>\n",
       "      <td>Cotton</td>\n",
       "      <td>other</td>\n",
       "      <td>Rib</td>\n",
       "    </tr>\n",
       "  </tbody>\n",
       "</table>\n",
       "<p>5 rows × 38 columns</p>\n",
       "</div>"
      ],
      "text/plain": [
       "  M/C Brand Production Date M/C Dia & Gauge Booking Type  \\\n",
       "0  Fukuhara     01-06-2022          52 X 14         Main   \n",
       "1  Fukuhara     01-06-2022          52 X 14         Main   \n",
       "2  Fukuhara     01-06-2022          52 X 14         Main   \n",
       "3  Fukuhara     01-06-2022          52 X 14         Main   \n",
       "4  Fukuhara     01-06-2022          52 X 14         Main   \n",
       "\n",
       "                       Lot                                        Color  \\\n",
       "0                 MGF-SS-8                            PURE WHITE 00010    \n",
       "1                 MGF-SS-8                            PURE WHITE 00010    \n",
       "2                   MGF-63                    CHARCOAL HEATHER - 00009    \n",
       "3  BF-22-10200,BF-22-12463  RIBBON RED[19-1663 TCX]; 5MM TIPPING-WHITE    \n",
       "4              BF-22-12463  RIBBON RED[19-1663 TCX]; 5MM TIPPING-WHITE    \n",
       "\n",
       "    Color Range  Stich Dia  GSM  ...  yarn_count_tex_1  yarn_count_tex_2  \\\n",
       "0  White Color   4.75   52  700  ...         24.608333               NaN   \n",
       "1  White Color   4.75   52  700  ...         24.608333               NaN   \n",
       "2         Wash   4.75   52  700  ...         24.608333               NaN   \n",
       "3         Wash   4.70   52  700  ...         24.608333               NaN   \n",
       "4         Wash   4.70   52  700  ...         24.608333               NaN   \n",
       "\n",
       "   yarn_count_tex_3  stitch_1  stitch_2  stitch_3 tightness_factor  \\\n",
       "0               NaN      4.75       NaN       NaN         1.044353   \n",
       "1               NaN      4.75       NaN       NaN         1.044353   \n",
       "2               NaN      4.75       NaN       NaN         1.044353   \n",
       "3               NaN      4.70       NaN       NaN         1.055464   \n",
       "4               NaN      4.70       NaN       NaN         1.055464   \n",
       "\n",
       "  composition  construction  body_part  \n",
       "0      Cotton           Rib        Rib  \n",
       "1      Cotton           Rib        Rib  \n",
       "2      Cotton           Rib        Rib  \n",
       "3      Cotton         other        Rib  \n",
       "4      Cotton         other        Rib  \n",
       "\n",
       "[5 rows x 38 columns]"
      ]
     },
     "execution_count": 97,
     "metadata": {},
     "output_type": "execute_result"
    }
   ],
   "source": [
    "df.head()"
   ]
  },
  {
   "cell_type": "code",
   "execution_count": 98,
   "id": "2d405fee-0fe2-4682-bc0d-9d72fc9013f2",
   "metadata": {},
   "outputs": [],
   "source": [
    "df= df.rename(columns={'Stich': 'stitch'})"
   ]
  },
  {
   "cell_type": "code",
   "execution_count": 99,
   "id": "9da6d809-593d-49e6-a51c-98cf299e7243",
   "metadata": {},
   "outputs": [
    {
     "data": {
      "text/plain": [
       "M/C Brand                      0\n",
       "Production Date                0\n",
       "M/C Dia & Gauge                0\n",
       "Booking Type                   0\n",
       "Lot                            0\n",
       "Color                          0\n",
       "Color Range                    0\n",
       "stitch                         0\n",
       "Dia                            0\n",
       "GSM                            0\n",
       "SHIFT-A                        0\n",
       "SHIFT-B                        0\n",
       "SHIFT-C                        0\n",
       "Without Shift(Outbound)       52\n",
       "Shift Total                    0\n",
       "Machine Total                359\n",
       "Reject Qty                  4448\n",
       "Yarn_Count                     0\n",
       "Yarn_count_length              0\n",
       "m/c_dia                        0\n",
       "m/c_gauge                      0\n",
       "fabric_dia_1                   0\n",
       "fabric_dia_2                   0\n",
       "contraction_1                  0\n",
       "contraction_2                  0\n",
       "contraction                    0\n",
       "number_of_feeders              0\n",
       "yarn_count_1                   0\n",
       "yarn_count_tex_1               0\n",
       "yarn_count_tex_2            7697\n",
       "yarn_count_tex_3           11615\n",
       "stitch_1                       0\n",
       "stitch_2                    6521\n",
       "stitch_3                   11423\n",
       "tightness_factor               0\n",
       "composition                    0\n",
       "construction                   0\n",
       "body_part                      0\n",
       "dtype: int64"
      ]
     },
     "execution_count": 99,
     "metadata": {},
     "output_type": "execute_result"
    }
   ],
   "source": [
    "df.isna().sum()"
   ]
  },
  {
   "cell_type": "code",
   "execution_count": 101,
   "id": "928dce70-8d20-4df5-9c16-50ec9afd05a0",
   "metadata": {},
   "outputs": [],
   "source": [
    "df.to_csv('knitting_dataset_cleaned.csv', index= False)"
   ]
  },
  {
   "cell_type": "code",
   "execution_count": null,
   "id": "49d4dfee-57e5-4177-b040-2f14f02dc103",
   "metadata": {},
   "outputs": [],
   "source": []
  }
 ],
 "metadata": {
  "kernelspec": {
   "display_name": "Python 3 (ipykernel)",
   "language": "python",
   "name": "python3"
  },
  "language_info": {
   "codemirror_mode": {
    "name": "ipython",
    "version": 3
   },
   "file_extension": ".py",
   "mimetype": "text/x-python",
   "name": "python",
   "nbconvert_exporter": "python",
   "pygments_lexer": "ipython3",
   "version": "3.12.2"
  }
 },
 "nbformat": 4,
 "nbformat_minor": 5
}
