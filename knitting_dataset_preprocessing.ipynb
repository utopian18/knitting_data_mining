{
 "cells": [
  {
   "cell_type": "code",
   "execution_count": 2,
   "id": "48398e40",
   "metadata": {},
   "outputs": [],
   "source": [
    "import pandas as pd\n",
    "import numpy as np"
   ]
  },
  {
   "cell_type": "code",
   "execution_count": 3,
   "id": "06189a88",
   "metadata": {},
   "outputs": [],
   "source": [
    "df = pd.read_excel('Production Report June-August 2022-2.xlsx')"
   ]
  },
  {
   "cell_type": "code",
   "execution_count": 4,
   "id": "84da67fe",
   "metadata": {},
   "outputs": [
    {
     "data": {
      "text/html": [
       "<div>\n",
       "<style scoped>\n",
       "    .dataframe tbody tr th:only-of-type {\n",
       "        vertical-align: middle;\n",
       "    }\n",
       "\n",
       "    .dataframe tbody tr th {\n",
       "        vertical-align: top;\n",
       "    }\n",
       "\n",
       "    .dataframe thead th {\n",
       "        text-align: right;\n",
       "    }\n",
       "</style>\n",
       "<table border=\"1\" class=\"dataframe\">\n",
       "  <thead>\n",
       "    <tr style=\"text-align: right;\">\n",
       "      <th></th>\n",
       "      <th>M/C Brand</th>\n",
       "      <th>Production Date</th>\n",
       "      <th>M/C Dia &amp; Gauge</th>\n",
       "      <th>Body Part</th>\n",
       "      <th>Booking Type</th>\n",
       "      <th>Yarn Count</th>\n",
       "      <th>Lot</th>\n",
       "      <th>Construction</th>\n",
       "      <th>Composition</th>\n",
       "      <th>Color</th>\n",
       "      <th>...</th>\n",
       "      <th>Stich</th>\n",
       "      <th>Dia</th>\n",
       "      <th>GSM</th>\n",
       "      <th>SHIFT-A</th>\n",
       "      <th>SHIFT-B</th>\n",
       "      <th>SHIFT-C</th>\n",
       "      <th>Without Shift(Outbound)</th>\n",
       "      <th>Shift Total</th>\n",
       "      <th>Machine Total</th>\n",
       "      <th>Reject Qty</th>\n",
       "    </tr>\n",
       "  </thead>\n",
       "  <tbody>\n",
       "    <tr>\n",
       "      <th>12564</th>\n",
       "      <td>Lisky</td>\n",
       "      <td>20-08-2022</td>\n",
       "      <td>30 X 20</td>\n",
       "      <td>NaN</td>\n",
       "      <td>NaN</td>\n",
       "      <td>28/1,75D/36F,12/1</td>\n",
       "      <td>2251/8548/579</td>\n",
       "      <td>Fleece, 87% Cotton 13% Polyester</td>\n",
       "      <td>NaN</td>\n",
       "      <td>PVC BLACK</td>\n",
       "      <td>...</td>\n",
       "      <td>4.75/3.15/2.20</td>\n",
       "      <td>62</td>\n",
       "      <td>350</td>\n",
       "      <td>0.01</td>\n",
       "      <td>0.0</td>\n",
       "      <td>0.00</td>\n",
       "      <td>NaN</td>\n",
       "      <td>0.01</td>\n",
       "      <td>0.01</td>\n",
       "      <td>0</td>\n",
       "    </tr>\n",
       "    <tr>\n",
       "      <th>12565</th>\n",
       "      <td>Lisky</td>\n",
       "      <td>20-08-2022</td>\n",
       "      <td>30 X 20</td>\n",
       "      <td>NaN</td>\n",
       "      <td>NaN</td>\n",
       "      <td>28/1,75D/36F,12/1</td>\n",
       "      <td>2251/8543/579</td>\n",
       "      <td>Fleece, 87% Cotton 13% Polyester</td>\n",
       "      <td>NaN</td>\n",
       "      <td>PVC BLACK</td>\n",
       "      <td>...</td>\n",
       "      <td>4.75/3.15/2.20</td>\n",
       "      <td>62</td>\n",
       "      <td>350</td>\n",
       "      <td>0.01</td>\n",
       "      <td>0.0</td>\n",
       "      <td>0.00</td>\n",
       "      <td>NaN</td>\n",
       "      <td>0.01</td>\n",
       "      <td>0.01</td>\n",
       "      <td>0</td>\n",
       "    </tr>\n",
       "    <tr>\n",
       "      <th>12566</th>\n",
       "      <td>Lisky</td>\n",
       "      <td>25-08-2022</td>\n",
       "      <td>30 X 20</td>\n",
       "      <td>NaN</td>\n",
       "      <td>NaN</td>\n",
       "      <td>30/1,75D/36F,12/1</td>\n",
       "      <td>308030/Q083036T2</td>\n",
       "      <td>Fleece, 87% Cotton 13% Polyester</td>\n",
       "      <td>NaN</td>\n",
       "      <td>MINSTY</td>\n",
       "      <td>...</td>\n",
       "      <td>4.80/3.15/1.66</td>\n",
       "      <td>67</td>\n",
       "      <td>295</td>\n",
       "      <td>0.01</td>\n",
       "      <td>0.0</td>\n",
       "      <td>0.00</td>\n",
       "      <td>NaN</td>\n",
       "      <td>0.01</td>\n",
       "      <td>0.01</td>\n",
       "      <td>0</td>\n",
       "    </tr>\n",
       "    <tr>\n",
       "      <th>12567</th>\n",
       "      <td>Lisky</td>\n",
       "      <td>25-08-2022</td>\n",
       "      <td>30 X 20</td>\n",
       "      <td>NaN</td>\n",
       "      <td>NaN</td>\n",
       "      <td>30/1,75D/36F,12/1</td>\n",
       "      <td>30809/Q083036T2</td>\n",
       "      <td>Fleece, 87% Cotton 13% Polyester</td>\n",
       "      <td>NaN</td>\n",
       "      <td>MINSTY</td>\n",
       "      <td>...</td>\n",
       "      <td>4.80/3.15/1.66</td>\n",
       "      <td>67</td>\n",
       "      <td>295</td>\n",
       "      <td>53.70</td>\n",
       "      <td>0.0</td>\n",
       "      <td>0.00</td>\n",
       "      <td>NaN</td>\n",
       "      <td>53.70</td>\n",
       "      <td>53.70</td>\n",
       "      <td>0</td>\n",
       "    </tr>\n",
       "    <tr>\n",
       "      <th>12568</th>\n",
       "      <td>Lisky</td>\n",
       "      <td>28-08-2022</td>\n",
       "      <td>30 X 20</td>\n",
       "      <td>NaN</td>\n",
       "      <td>NaN</td>\n",
       "      <td>30/1,75D/36F,12/1</td>\n",
       "      <td>30809/Q083036T2/222</td>\n",
       "      <td>Fleece, 87% Cotton 13% Polyester</td>\n",
       "      <td>NaN</td>\n",
       "      <td>MINSTY</td>\n",
       "      <td>...</td>\n",
       "      <td>4.80/3.15/1.66</td>\n",
       "      <td>67</td>\n",
       "      <td>295</td>\n",
       "      <td>0.00</td>\n",
       "      <td>0.0</td>\n",
       "      <td>0.01</td>\n",
       "      <td>NaN</td>\n",
       "      <td>0.01</td>\n",
       "      <td>0.01</td>\n",
       "      <td>0</td>\n",
       "    </tr>\n",
       "  </tbody>\n",
       "</table>\n",
       "<p>5 rows × 21 columns</p>\n",
       "</div>"
      ],
      "text/plain": [
       "      M/C Brand Production Date M/C Dia & Gauge Body Part Booking Type  \\\n",
       "12564     Lisky     20-08-2022          30 X 20       NaN          NaN   \n",
       "12565     Lisky     20-08-2022          30 X 20       NaN          NaN   \n",
       "12566     Lisky     25-08-2022          30 X 20       NaN          NaN   \n",
       "12567     Lisky     25-08-2022          30 X 20       NaN          NaN   \n",
       "12568     Lisky     28-08-2022          30 X 20       NaN          NaN   \n",
       "\n",
       "              Yarn Count                   Lot  \\\n",
       "12564  28/1,75D/36F,12/1        2251/8548/579    \n",
       "12565  28/1,75D/36F,12/1        2251/8543/579    \n",
       "12566  30/1,75D/36F,12/1     308030/Q083036T2    \n",
       "12567  30/1,75D/36F,12/1      30809/Q083036T2    \n",
       "12568  30/1,75D/36F,12/1  30809/Q083036T2/222    \n",
       "\n",
       "                            Construction Composition       Color  ...  \\\n",
       "12564  Fleece, 87% Cotton 13% Polyester          NaN  PVC BLACK   ...   \n",
       "12565  Fleece, 87% Cotton 13% Polyester          NaN  PVC BLACK   ...   \n",
       "12566  Fleece, 87% Cotton 13% Polyester          NaN     MINSTY   ...   \n",
       "12567  Fleece, 87% Cotton 13% Polyester          NaN     MINSTY   ...   \n",
       "12568  Fleece, 87% Cotton 13% Polyester          NaN     MINSTY   ...   \n",
       "\n",
       "                 Stich  Dia   GSM SHIFT-A  SHIFT-B  SHIFT-C  \\\n",
       "12564  4.75/3.15/2.20   62   350     0.01      0.0     0.00   \n",
       "12565  4.75/3.15/2.20   62   350     0.01      0.0     0.00   \n",
       "12566  4.80/3.15/1.66   67   295     0.01      0.0     0.00   \n",
       "12567  4.80/3.15/1.66   67   295    53.70      0.0     0.00   \n",
       "12568  4.80/3.15/1.66   67   295     0.00      0.0     0.01   \n",
       "\n",
       "       Without Shift(Outbound)  Shift Total  Machine Total  Reject Qty  \n",
       "12564                      NaN         0.01           0.01           0  \n",
       "12565                      NaN         0.01           0.01           0  \n",
       "12566                      NaN         0.01           0.01           0  \n",
       "12567                      NaN        53.70          53.70           0  \n",
       "12568                      NaN         0.01           0.01           0  \n",
       "\n",
       "[5 rows x 21 columns]"
      ]
     },
     "execution_count": 4,
     "metadata": {},
     "output_type": "execute_result"
    }
   ],
   "source": [
    "df.tail()"
   ]
  },
  {
   "cell_type": "code",
   "execution_count": 20,
   "id": "3498fed5-b65b-4fda-9b02-cc5a32c935dc",
   "metadata": {},
   "outputs": [
    {
     "data": {
      "text/plain": [
       "1\n",
       "06    4401\n",
       "08    4300\n",
       "07    3868\n",
       "Name: count, dtype: int64"
      ]
     },
     "execution_count": 20,
     "metadata": {},
     "output_type": "execute_result"
    }
   ],
   "source": [
    "df['Production Date'].str.split('-', expand=True)[1].value_counts()"
   ]
  },
  {
   "cell_type": "code",
   "execution_count": 4,
   "id": "3a7fbfda",
   "metadata": {},
   "outputs": [
    {
     "data": {
      "text/plain": [
       "Index(['M/C Brand', 'Production Date', 'M/C Dia & Gauge', 'Body Part',\n",
       "       'Booking Type', 'Yarn Count', 'Lot', 'Construction', 'Composition',\n",
       "       'Color', 'Color Range', 'Stich', 'Dia', 'GSM', 'SHIFT-A', 'SHIFT-B',\n",
       "       'SHIFT-C', 'Without Shift(Outbound)', 'Shift Total', 'Machine Total',\n",
       "       'Reject Qty'],\n",
       "      dtype='object')"
      ]
     },
     "execution_count": 4,
     "metadata": {},
     "output_type": "execute_result"
    }
   ],
   "source": [
    "df.columns"
   ]
  },
  {
   "cell_type": "code",
   "execution_count": 5,
   "id": "2a4f74b3",
   "metadata": {},
   "outputs": [],
   "source": [
    "#in maximum cases the factory used Fukuhara machine so we can fill the missing values with Fukuhara\n",
    "df['M/C Brand']= df['M/C Brand'].fillna('Fukuhara')"
   ]
  },
  {
   "cell_type": "code",
   "execution_count": 6,
   "id": "8dcfb438",
   "metadata": {},
   "outputs": [
    {
     "data": {
      "text/plain": [
       "0"
      ]
     },
     "execution_count": 6,
     "metadata": {},
     "output_type": "execute_result"
    }
   ],
   "source": [
    "df['M/C Brand'].isna().sum()"
   ]
  },
  {
   "cell_type": "code",
   "execution_count": 7,
   "id": "2938d897",
   "metadata": {},
   "outputs": [
    {
     "data": {
      "text/plain": [
       "0        2022-01-24 00:00:00\n",
       "1        2022-01-24 00:00:00\n",
       "2        2022-01-24 00:00:00\n",
       "3        2022-01-24 00:00:00\n",
       "4        2022-01-24 00:00:00\n",
       "                ...         \n",
       "12564      28/1,75D/36F,12/1\n",
       "12565      28/1,75D/36F,12/1\n",
       "12566      30/1,75D/36F,12/1\n",
       "12567      30/1,75D/36F,12/1\n",
       "12568      30/1,75D/36F,12/1\n",
       "Name: Yarn Count, Length: 12569, dtype: object"
      ]
     },
     "execution_count": 7,
     "metadata": {},
     "output_type": "execute_result"
    }
   ],
   "source": [
    "df['Yarn Count']"
   ]
  },
  {
   "cell_type": "code",
   "execution_count": 8,
   "id": "04141311",
   "metadata": {},
   "outputs": [],
   "source": [
    "#it seems the excel file auto convert the datatype to data type; so lets convert it as string\n",
    "df['Yarn Count']= df['Yarn Count'].apply(lambda x: str(x.day)+'/'+'1' if type(x).__name__ == 'datetime' else x)"
   ]
  },
  {
   "cell_type": "code",
   "execution_count": 9,
   "id": "7f3405b1",
   "metadata": {},
   "outputs": [],
   "source": [
    "# df['Yarn Count']= df['Yarn Count'].apply(lambda x: x.day if type(x).__name__ == 'datetime' else x)"
   ]
  },
  {
   "cell_type": "code",
   "execution_count": 10,
   "id": "749050cd",
   "metadata": {},
   "outputs": [
    {
     "data": {
      "text/plain": [
       "33"
      ]
     },
     "execution_count": 10,
     "metadata": {},
     "output_type": "execute_result"
    }
   ],
   "source": [
    "df['Yarn Count'].isna().sum()"
   ]
  },
  {
   "cell_type": "code",
   "execution_count": 11,
   "id": "bfa2d420",
   "metadata": {},
   "outputs": [
    {
     "data": {
      "text/plain": [
       "Index(['M/C Brand', 'Production Date', 'M/C Dia & Gauge', 'Body Part',\n",
       "       'Booking Type', 'Yarn Count', 'Lot', 'Construction', 'Composition',\n",
       "       'Color', 'Color Range', 'Stich', 'Dia', 'GSM', 'SHIFT-A', 'SHIFT-B',\n",
       "       'SHIFT-C', 'Without Shift(Outbound)', 'Shift Total', 'Machine Total',\n",
       "       'Reject Qty'],\n",
       "      dtype='object')"
      ]
     },
     "execution_count": 11,
     "metadata": {},
     "output_type": "execute_result"
    }
   ],
   "source": [
    "df.columns"
   ]
  },
  {
   "cell_type": "code",
   "execution_count": 12,
   "id": "d350c427",
   "metadata": {},
   "outputs": [],
   "source": [
    "# filling the yarn count"
   ]
  },
  {
   "cell_type": "code",
   "execution_count": null,
   "id": "65476d34",
   "metadata": {},
   "outputs": [],
   "source": []
  },
  {
   "cell_type": "markdown",
   "id": "2c89b777",
   "metadata": {},
   "source": [
    "# Filling the yarn missing counts: 33 yarn count values are missing, we know yarn count is closely related to GSM and Body Parts, so we will take the missing values from GSM and body parts"
   ]
  },
  {
   "cell_type": "code",
   "execution_count": 12,
   "id": "f726d7d7",
   "metadata": {},
   "outputs": [],
   "source": [
    "#making a dataframe of the missing yarn_count values \n",
    "body_part_ =[]\n",
    "count_ =[]\n",
    "\n",
    "gsm_ =[]\n",
    "for body_part, gsm in zip(df[df['Yarn Count'].isna()]['Body Part'],\n",
    "                         df[df['Yarn Count'].isna()]['GSM']):\n",
    "    body_part_.append(body_part)\n",
    "    gsm_.append(gsm)\n",
    "    try:\n",
    "        count_.append(df[(df['Body Part'] == body_part) & (df['GSM'] == gsm)]['Yarn Count'].value_counts().index[0])\n",
    "    except:\n",
    "        count_.append('30/1')\n",
    "    \n"
   ]
  },
  {
   "cell_type": "code",
   "execution_count": 13,
   "id": "e53a6a68",
   "metadata": {},
   "outputs": [
    {
     "data": {
      "text/html": [
       "<div>\n",
       "<style scoped>\n",
       "    .dataframe tbody tr th:only-of-type {\n",
       "        vertical-align: middle;\n",
       "    }\n",
       "\n",
       "    .dataframe tbody tr th {\n",
       "        vertical-align: top;\n",
       "    }\n",
       "\n",
       "    .dataframe thead th {\n",
       "        text-align: right;\n",
       "    }\n",
       "</style>\n",
       "<table border=\"1\" class=\"dataframe\">\n",
       "  <thead>\n",
       "    <tr style=\"text-align: right;\">\n",
       "      <th></th>\n",
       "      <th>Body_Part</th>\n",
       "      <th>GSM</th>\n",
       "      <th>Yarn_count</th>\n",
       "    </tr>\n",
       "  </thead>\n",
       "  <tbody>\n",
       "    <tr>\n",
       "      <th>0</th>\n",
       "      <td>Main Fabric Top</td>\n",
       "      <td>320</td>\n",
       "      <td>34/1,20/D,50D/36F</td>\n",
       "    </tr>\n",
       "    <tr>\n",
       "      <th>1</th>\n",
       "      <td>Collar</td>\n",
       "      <td>650</td>\n",
       "      <td>150D/144F</td>\n",
       "    </tr>\n",
       "    <tr>\n",
       "      <th>2</th>\n",
       "      <td>Collar</td>\n",
       "      <td>650</td>\n",
       "      <td>150D/144F</td>\n",
       "    </tr>\n",
       "    <tr>\n",
       "      <th>3</th>\n",
       "      <td>Collar</td>\n",
       "      <td>650</td>\n",
       "      <td>150D/144F</td>\n",
       "    </tr>\n",
       "    <tr>\n",
       "      <th>4</th>\n",
       "      <td>Body</td>\n",
       "      <td>200</td>\n",
       "      <td>30/1,40/D</td>\n",
       "    </tr>\n",
       "    <tr>\n",
       "      <th>5</th>\n",
       "      <td>Bottom</td>\n",
       "      <td>160</td>\n",
       "      <td>34/1,20/D</td>\n",
       "    </tr>\n",
       "    <tr>\n",
       "      <th>6</th>\n",
       "      <td>Bottom</td>\n",
       "      <td>160</td>\n",
       "      <td>34/1,20/D</td>\n",
       "    </tr>\n",
       "    <tr>\n",
       "      <th>7</th>\n",
       "      <td>Bottom</td>\n",
       "      <td>160</td>\n",
       "      <td>34/1,20/D</td>\n",
       "    </tr>\n",
       "    <tr>\n",
       "      <th>8</th>\n",
       "      <td>Bottom</td>\n",
       "      <td>160</td>\n",
       "      <td>34/1,20/D</td>\n",
       "    </tr>\n",
       "    <tr>\n",
       "      <th>9</th>\n",
       "      <td>Rib</td>\n",
       "      <td>350</td>\n",
       "      <td>20/1,55/D</td>\n",
       "    </tr>\n",
       "    <tr>\n",
       "      <th>10</th>\n",
       "      <td>Body</td>\n",
       "      <td>180</td>\n",
       "      <td>24/1</td>\n",
       "    </tr>\n",
       "    <tr>\n",
       "      <th>11</th>\n",
       "      <td>Body</td>\n",
       "      <td>180</td>\n",
       "      <td>24/1</td>\n",
       "    </tr>\n",
       "    <tr>\n",
       "      <th>12</th>\n",
       "      <td>Main Fabric Top</td>\n",
       "      <td>140</td>\n",
       "      <td>30/1</td>\n",
       "    </tr>\n",
       "    <tr>\n",
       "      <th>13</th>\n",
       "      <td>Main Fabric Top</td>\n",
       "      <td>280</td>\n",
       "      <td>32/1,10/1,75D/36F</td>\n",
       "    </tr>\n",
       "    <tr>\n",
       "      <th>14</th>\n",
       "      <td>Main Fabric Bottom</td>\n",
       "      <td>250</td>\n",
       "      <td>40/1,30/D</td>\n",
       "    </tr>\n",
       "    <tr>\n",
       "      <th>15</th>\n",
       "      <td>Cuff</td>\n",
       "      <td>200</td>\n",
       "      <td>28/1</td>\n",
       "    </tr>\n",
       "    <tr>\n",
       "      <th>16</th>\n",
       "      <td>Body part-1</td>\n",
       "      <td>220</td>\n",
       "      <td>30/1,40/D</td>\n",
       "    </tr>\n",
       "    <tr>\n",
       "      <th>17</th>\n",
       "      <td>Body part-1</td>\n",
       "      <td>180</td>\n",
       "      <td>30/1,20/D</td>\n",
       "    </tr>\n",
       "    <tr>\n",
       "      <th>18</th>\n",
       "      <td>Rib</td>\n",
       "      <td>250</td>\n",
       "      <td>30/1,40/D</td>\n",
       "    </tr>\n",
       "    <tr>\n",
       "      <th>19</th>\n",
       "      <td>Main Fabric Top</td>\n",
       "      <td>160</td>\n",
       "      <td>28/1</td>\n",
       "    </tr>\n",
       "    <tr>\n",
       "      <th>20</th>\n",
       "      <td>Bottom</td>\n",
       "      <td>160</td>\n",
       "      <td>34/1,20/D</td>\n",
       "    </tr>\n",
       "    <tr>\n",
       "      <th>21</th>\n",
       "      <td>Main Fabric Top</td>\n",
       "      <td>140</td>\n",
       "      <td>30/1</td>\n",
       "    </tr>\n",
       "    <tr>\n",
       "      <th>22</th>\n",
       "      <td>Binding</td>\n",
       "      <td>210</td>\n",
       "      <td>32/1</td>\n",
       "    </tr>\n",
       "    <tr>\n",
       "      <th>23</th>\n",
       "      <td>Binding</td>\n",
       "      <td>210</td>\n",
       "      <td>32/1</td>\n",
       "    </tr>\n",
       "    <tr>\n",
       "      <th>24</th>\n",
       "      <td>Binding</td>\n",
       "      <td>210</td>\n",
       "      <td>32/1</td>\n",
       "    </tr>\n",
       "    <tr>\n",
       "      <th>25</th>\n",
       "      <td>Main Fabric Top</td>\n",
       "      <td>160</td>\n",
       "      <td>28/1</td>\n",
       "    </tr>\n",
       "    <tr>\n",
       "      <th>26</th>\n",
       "      <td>Body</td>\n",
       "      <td>140</td>\n",
       "      <td>32/1</td>\n",
       "    </tr>\n",
       "    <tr>\n",
       "      <th>27</th>\n",
       "      <td>Binding</td>\n",
       "      <td>180</td>\n",
       "      <td>40/D,100D/144F</td>\n",
       "    </tr>\n",
       "    <tr>\n",
       "      <th>28</th>\n",
       "      <td>Rib</td>\n",
       "      <td>410</td>\n",
       "      <td>20/1,70/D</td>\n",
       "    </tr>\n",
       "    <tr>\n",
       "      <th>29</th>\n",
       "      <td>Neck Rib</td>\n",
       "      <td>280</td>\n",
       "      <td>27/1,50D/36F</td>\n",
       "    </tr>\n",
       "    <tr>\n",
       "      <th>30</th>\n",
       "      <td>Neck Rib</td>\n",
       "      <td>280</td>\n",
       "      <td>27/1,50D/36F</td>\n",
       "    </tr>\n",
       "    <tr>\n",
       "      <th>31</th>\n",
       "      <td>Main Fabric Bottom</td>\n",
       "      <td>160</td>\n",
       "      <td>40/1,20/D</td>\n",
       "    </tr>\n",
       "    <tr>\n",
       "      <th>32</th>\n",
       "      <td>Body</td>\n",
       "      <td>320</td>\n",
       "      <td>34/1,20/D,50D/36F</td>\n",
       "    </tr>\n",
       "  </tbody>\n",
       "</table>\n",
       "</div>"
      ],
      "text/plain": [
       "             Body_Part  GSM         Yarn_count\n",
       "0      Main Fabric Top  320  34/1,20/D,50D/36F\n",
       "1               Collar  650          150D/144F\n",
       "2               Collar  650          150D/144F\n",
       "3               Collar  650          150D/144F\n",
       "4                 Body  200          30/1,40/D\n",
       "5               Bottom  160          34/1,20/D\n",
       "6               Bottom  160          34/1,20/D\n",
       "7               Bottom  160          34/1,20/D\n",
       "8               Bottom  160          34/1,20/D\n",
       "9                  Rib  350          20/1,55/D\n",
       "10                Body  180               24/1\n",
       "11                Body  180               24/1\n",
       "12     Main Fabric Top  140               30/1\n",
       "13     Main Fabric Top  280  32/1,10/1,75D/36F\n",
       "14  Main Fabric Bottom  250          40/1,30/D\n",
       "15                Cuff  200               28/1\n",
       "16         Body part-1  220          30/1,40/D\n",
       "17         Body part-1  180          30/1,20/D\n",
       "18                 Rib  250          30/1,40/D\n",
       "19     Main Fabric Top  160               28/1\n",
       "20              Bottom  160          34/1,20/D\n",
       "21     Main Fabric Top  140               30/1\n",
       "22             Binding  210               32/1\n",
       "23             Binding  210               32/1\n",
       "24             Binding  210               32/1\n",
       "25     Main Fabric Top  160               28/1\n",
       "26                Body  140               32/1\n",
       "27             Binding  180     40/D,100D/144F\n",
       "28                 Rib  410          20/1,70/D\n",
       "29            Neck Rib  280       27/1,50D/36F\n",
       "30            Neck Rib  280       27/1,50D/36F\n",
       "31  Main Fabric Bottom  160          40/1,20/D\n",
       "32                Body  320  34/1,20/D,50D/36F"
      ]
     },
     "execution_count": 13,
     "metadata": {},
     "output_type": "execute_result"
    }
   ],
   "source": [
    "filling_vlaues_count= pd.DataFrame({'Body_Part': body_part_, 'GSM': gsm_, 'Yarn_count': count_ })\n",
    "filling_vlaues_count['GSM'] = filling_vlaues_count['GSM'].astype(int)\n",
    "filling_vlaues_count"
   ]
  },
  {
   "cell_type": "code",
   "execution_count": null,
   "id": "08229c5a",
   "metadata": {},
   "outputs": [],
   "source": []
  },
  {
   "cell_type": "code",
   "execution_count": 14,
   "id": "6ae71c06",
   "metadata": {},
   "outputs": [],
   "source": [
    "#to extract the count from gsm and body_part\n",
    "def extract_count(gsm):\n",
    "    return filling_vlaues_count.apply(lambda x: True if x['GSM'] == gsm else False , axis=1)\n",
    "    "
   ]
  },
  {
   "cell_type": "code",
   "execution_count": 15,
   "id": "75190cb1",
   "metadata": {},
   "outputs": [
    {
     "data": {
      "text/plain": [
       "array(['34/1,20/D', '34/1,20/D', '34/1,20/D', '34/1,20/D', '28/1',\n",
       "       '34/1,20/D', '28/1', '40/1,20/D'], dtype=object)"
      ]
     },
     "execution_count": 15,
     "metadata": {},
     "output_type": "execute_result"
    }
   ],
   "source": [
    "filling_vlaues_count[extract_count(160)]['Yarn_count'].values"
   ]
  },
  {
   "cell_type": "code",
   "execution_count": 16,
   "id": "7d58a6ae",
   "metadata": {},
   "outputs": [
    {
     "data": {
      "text/plain": [
       "array(['34/1,20/D,50D/36F', '34/1,20/D,50D/36F'], dtype=object)"
      ]
     },
     "execution_count": 16,
     "metadata": {},
     "output_type": "execute_result"
    }
   ],
   "source": [
    "filling_vlaues_count[extract_count(320)]['Yarn_count'].values"
   ]
  },
  {
   "cell_type": "code",
   "execution_count": 17,
   "id": "845a528a",
   "metadata": {},
   "outputs": [],
   "source": [
    "df['Yarn_Count']= df.apply(lambda x: filling_vlaues_count[extract_count(int(x['GSM']))]['Yarn_count'].values[0]\n",
    "         if pd.isna(x['Yarn Count']) else x['Yarn Count'] , axis=1)"
   ]
  },
  {
   "cell_type": "code",
   "execution_count": 18,
   "id": "27888fe6",
   "metadata": {},
   "outputs": [],
   "source": [
    "# df[df['Yarn Count'].isna()][['Yarn Count', 'Yarn_Count', 'GSM']]"
   ]
  },
  {
   "cell_type": "code",
   "execution_count": 19,
   "id": "af573975",
   "metadata": {},
   "outputs": [
    {
     "data": {
      "text/plain": [
       "0"
      ]
     },
     "execution_count": 19,
     "metadata": {},
     "output_type": "execute_result"
    }
   ],
   "source": [
    "df['Yarn_Count'].isna().sum()"
   ]
  },
  {
   "cell_type": "code",
   "execution_count": 20,
   "id": "350340cd",
   "metadata": {},
   "outputs": [],
   "source": [
    "#lets drop the Yarn Count column\n",
    "df = df.drop('Yarn Count', axis=1)"
   ]
  },
  {
   "cell_type": "markdown",
   "id": "074132ea",
   "metadata": {},
   "source": [
    "# GSM tweaking "
   ]
  },
  {
   "cell_type": "code",
   "execution_count": 21,
   "id": "864b4e2a",
   "metadata": {},
   "outputs": [],
   "source": [
    "gsm_counts = df['GSM'].value_counts()\n",
    "#it seems some GSM are very rare but close to another available GSM, so lets merge them.\n",
    "# 156==> 155; 164==>165; 195 ==> 190; 205 == > 200; 283 ==> 285;  295 ==> ; 305 ==> ; 310 ==>305 ;\n",
    "#410 == > 400;"
   ]
  },
  {
   "cell_type": "code",
   "execution_count": 22,
   "id": "d90bb6b1",
   "metadata": {},
   "outputs": [],
   "source": [
    "df['GSM']= df['GSM'].replace([156,164,283 ], [156, 165, 285])"
   ]
  },
  {
   "cell_type": "markdown",
   "id": "f3a442d0",
   "metadata": {},
   "source": [
    "# Filling Body Pats"
   ]
  },
  {
   "cell_type": "code",
   "execution_count": 23,
   "id": "a9785415",
   "metadata": {},
   "outputs": [
    {
     "data": {
      "text/plain": [
       "M/C Brand                     0\n",
       "Production Date               0\n",
       "M/C Dia & Gauge               0\n",
       "Body Part                    52\n",
       "Booking Type               1388\n",
       "Lot                          36\n",
       "Construction                  0\n",
       "Composition                  52\n",
       "Color                         4\n",
       "Color Range                  45\n",
       "Stich                         0\n",
       "Dia                           0\n",
       "GSM                           0\n",
       "SHIFT-A                       0\n",
       "SHIFT-B                       0\n",
       "SHIFT-C                       0\n",
       "Without Shift(Outbound)      52\n",
       "Shift Total                   0\n",
       "Machine Total               359\n",
       "Reject Qty                 4448\n",
       "Yarn_Count                    0\n",
       "dtype: int64"
      ]
     },
     "execution_count": 23,
     "metadata": {},
     "output_type": "execute_result"
    }
   ],
   "source": [
    "df.isna().sum()"
   ]
  },
  {
   "cell_type": "code",
   "execution_count": 24,
   "id": "35f22bf8",
   "metadata": {},
   "outputs": [],
   "source": [
    "def fill_body_part(x):\n",
    "    if x['GSM'] == 350:\n",
    "        return 'Rib'\n",
    "    elif x['GSM'] == 295:\n",
    "        return 'Armhole Piping'\n",
    "    elif x['GSM'] == 170:\n",
    "        return 'body'\n",
    "    elif x['GSM'] == 185:\n",
    "        return 'Pocketing Bottom'\n",
    "    else:\n",
    "        return 'Body'\n"
   ]
  },
  {
   "cell_type": "code",
   "execution_count": 24,
   "id": "7c12f492",
   "metadata": {},
   "outputs": [],
   "source": [
    "# df.apply(lambda x: x['GSM'].dtypes, axis=1 )"
   ]
  },
  {
   "cell_type": "code",
   "execution_count": 25,
   "id": "683c7a87",
   "metadata": {},
   "outputs": [],
   "source": [
    "# df[df['Body Part'].isna()][['GSM', 'Body Part']]"
   ]
  },
  {
   "cell_type": "code",
   "execution_count": 25,
   "id": "21d9f991",
   "metadata": {},
   "outputs": [],
   "source": [
    "df['Body Part']= df.apply(lambda x: fill_body_part(x) if pd.isna(x['Body Part']) else x['Body Part'], axis=1)"
   ]
  },
  {
   "cell_type": "code",
   "execution_count": 26,
   "id": "124f17c4",
   "metadata": {},
   "outputs": [],
   "source": [
    "df['Yarn_count_length']= df['Yarn_Count'].apply(lambda x: len(x.split(',')))"
   ]
  },
  {
   "cell_type": "code",
   "execution_count": 27,
   "id": "f966aaab",
   "metadata": {},
   "outputs": [
    {
     "data": {
      "text/html": [
       "<div>\n",
       "<style scoped>\n",
       "    .dataframe tbody tr th:only-of-type {\n",
       "        vertical-align: middle;\n",
       "    }\n",
       "\n",
       "    .dataframe tbody tr th {\n",
       "        vertical-align: top;\n",
       "    }\n",
       "\n",
       "    .dataframe thead th {\n",
       "        text-align: right;\n",
       "    }\n",
       "</style>\n",
       "<table border=\"1\" class=\"dataframe\">\n",
       "  <thead>\n",
       "    <tr style=\"text-align: right;\">\n",
       "      <th></th>\n",
       "      <th>M/C Brand</th>\n",
       "      <th>Production Date</th>\n",
       "      <th>M/C Dia &amp; Gauge</th>\n",
       "      <th>Body Part</th>\n",
       "      <th>Booking Type</th>\n",
       "      <th>Lot</th>\n",
       "      <th>Construction</th>\n",
       "      <th>Composition</th>\n",
       "      <th>Color</th>\n",
       "      <th>Color Range</th>\n",
       "      <th>...</th>\n",
       "      <th>GSM</th>\n",
       "      <th>SHIFT-A</th>\n",
       "      <th>SHIFT-B</th>\n",
       "      <th>SHIFT-C</th>\n",
       "      <th>Without Shift(Outbound)</th>\n",
       "      <th>Shift Total</th>\n",
       "      <th>Machine Total</th>\n",
       "      <th>Reject Qty</th>\n",
       "      <th>Yarn_Count</th>\n",
       "      <th>Yarn_count_length</th>\n",
       "    </tr>\n",
       "  </thead>\n",
       "  <tbody>\n",
       "    <tr>\n",
       "      <th>0</th>\n",
       "      <td>Fukuhara</td>\n",
       "      <td>01-06-2022</td>\n",
       "      <td>52 X 14</td>\n",
       "      <td>Collar</td>\n",
       "      <td>Main</td>\n",
       "      <td>MGF-SS-8</td>\n",
       "      <td>Flat Knit Rib</td>\n",
       "      <td>Cotton 100%</td>\n",
       "      <td>PURE WHITE 00010</td>\n",
       "      <td>White Color</td>\n",
       "      <td>...</td>\n",
       "      <td>700</td>\n",
       "      <td>0.0</td>\n",
       "      <td>0.0</td>\n",
       "      <td>23.72</td>\n",
       "      <td>0.0</td>\n",
       "      <td>23.72</td>\n",
       "      <td>211.22</td>\n",
       "      <td>0</td>\n",
       "      <td>24/1</td>\n",
       "      <td>1</td>\n",
       "    </tr>\n",
       "    <tr>\n",
       "      <th>1</th>\n",
       "      <td>Fukuhara</td>\n",
       "      <td>01-06-2022</td>\n",
       "      <td>52 X 14</td>\n",
       "      <td>Cuff</td>\n",
       "      <td>Main</td>\n",
       "      <td>MGF-SS-8</td>\n",
       "      <td>Flat Knit Rib</td>\n",
       "      <td>Cotton 100%</td>\n",
       "      <td>PURE WHITE 00010</td>\n",
       "      <td>White Color</td>\n",
       "      <td>...</td>\n",
       "      <td>700</td>\n",
       "      <td>0.0</td>\n",
       "      <td>0.0</td>\n",
       "      <td>31.00</td>\n",
       "      <td>0.0</td>\n",
       "      <td>31.00</td>\n",
       "      <td>NaN</td>\n",
       "      <td>0</td>\n",
       "      <td>24/1</td>\n",
       "      <td>1</td>\n",
       "    </tr>\n",
       "  </tbody>\n",
       "</table>\n",
       "<p>2 rows × 22 columns</p>\n",
       "</div>"
      ],
      "text/plain": [
       "  M/C Brand Production Date M/C Dia & Gauge Body Part Booking Type        Lot  \\\n",
       "0  Fukuhara     01-06-2022          52 X 14    Collar         Main  MGF-SS-8    \n",
       "1  Fukuhara     01-06-2022          52 X 14      Cuff         Main  MGF-SS-8    \n",
       "\n",
       "    Construction   Composition              Color   Color Range  ...   GSM  \\\n",
       "0  Flat Knit Rib  Cotton 100%   PURE WHITE 00010   White Color   ...  700    \n",
       "1  Flat Knit Rib  Cotton 100%   PURE WHITE 00010   White Color   ...  700    \n",
       "\n",
       "  SHIFT-A SHIFT-B  SHIFT-C  Without Shift(Outbound)  Shift Total  \\\n",
       "0     0.0     0.0    23.72                      0.0        23.72   \n",
       "1     0.0     0.0    31.00                      0.0        31.00   \n",
       "\n",
       "   Machine Total  Reject Qty  Yarn_Count Yarn_count_length  \n",
       "0         211.22           0        24/1                 1  \n",
       "1            NaN           0        24/1                 1  \n",
       "\n",
       "[2 rows x 22 columns]"
      ]
     },
     "execution_count": 27,
     "metadata": {},
     "output_type": "execute_result"
    }
   ],
   "source": [
    "df.head(2)"
   ]
  },
  {
   "cell_type": "code",
   "execution_count": 31,
   "id": "664c240f",
   "metadata": {},
   "outputs": [],
   "source": [
    "# df.isna().sum()"
   ]
  },
  {
   "cell_type": "markdown",
   "id": "02a1c7b1",
   "metadata": {},
   "source": [
    "# Filling the Composition"
   ]
  },
  {
   "cell_type": "code",
   "execution_count": 32,
   "id": "668c2386",
   "metadata": {},
   "outputs": [],
   "source": [
    "# df[df['Composition'].isna()][['GSM', 'Yarn_Count', 'Composition','Construction', 'Yarn_count_length']]\n",
    "#so it is clear that the composition in misplaced in Construction column "
   ]
  },
  {
   "cell_type": "code",
   "execution_count": 28,
   "id": "61e8ea4f",
   "metadata": {},
   "outputs": [],
   "source": [
    "#the composition colum was cleaned on the bassis of missing construction\n",
    "df['Construction_cleaned']= df.apply(lambda x: x['Construction'].split(',')[0] if pd.isna(x['Composition'])\n",
    "                             else x['Construction'], axis=1)"
   ]
  },
  {
   "cell_type": "code",
   "execution_count": 29,
   "id": "fee7f732",
   "metadata": {},
   "outputs": [],
   "source": [
    "# df[df['Composition'].isna()][['GSM', 'Yarn_Count', 'Composition','Construction',\n",
    "#                               'Construction_cleaned', 'Yarn_count_length']]\n",
    "# #so it is clear that the composition in misplaced in Construction column "
   ]
  },
  {
   "cell_type": "code",
   "execution_count": 30,
   "id": "5c8ccd55",
   "metadata": {},
   "outputs": [],
   "source": [
    "#here we haved taken the composition from the construction \n",
    "df['Composition_filled']= df.apply(lambda x: x['Construction'].split(',')[-1]\n",
    "         if pd.isna(x['Composition']) else x['Composition'], axis=1)"
   ]
  },
  {
   "cell_type": "code",
   "execution_count": 31,
   "id": "81e39e91",
   "metadata": {},
   "outputs": [
    {
     "data": {
      "text/html": [
       "<div>\n",
       "<style scoped>\n",
       "    .dataframe tbody tr th:only-of-type {\n",
       "        vertical-align: middle;\n",
       "    }\n",
       "\n",
       "    .dataframe tbody tr th {\n",
       "        vertical-align: top;\n",
       "    }\n",
       "\n",
       "    .dataframe thead th {\n",
       "        text-align: right;\n",
       "    }\n",
       "</style>\n",
       "<table border=\"1\" class=\"dataframe\">\n",
       "  <thead>\n",
       "    <tr style=\"text-align: right;\">\n",
       "      <th></th>\n",
       "      <th>GSM</th>\n",
       "      <th>Yarn_Count</th>\n",
       "      <th>Composition_filled</th>\n",
       "      <th>Construction</th>\n",
       "      <th>Construction_cleaned</th>\n",
       "      <th>Yarn_count_length</th>\n",
       "    </tr>\n",
       "  </thead>\n",
       "  <tbody>\n",
       "    <tr>\n",
       "      <th>0</th>\n",
       "      <td>700</td>\n",
       "      <td>24/1</td>\n",
       "      <td>Cotton 100%</td>\n",
       "      <td>Flat Knit Rib</td>\n",
       "      <td>Flat Knit Rib</td>\n",
       "      <td>1</td>\n",
       "    </tr>\n",
       "    <tr>\n",
       "      <th>1</th>\n",
       "      <td>700</td>\n",
       "      <td>24/1</td>\n",
       "      <td>Cotton 100%</td>\n",
       "      <td>Flat Knit Rib</td>\n",
       "      <td>Flat Knit Rib</td>\n",
       "      <td>1</td>\n",
       "    </tr>\n",
       "    <tr>\n",
       "      <th>2</th>\n",
       "      <td>700</td>\n",
       "      <td>24/1</td>\n",
       "      <td>Cotton 100%</td>\n",
       "      <td>Flat Knit Rib</td>\n",
       "      <td>Flat Knit Rib</td>\n",
       "      <td>1</td>\n",
       "    </tr>\n",
       "    <tr>\n",
       "      <th>3</th>\n",
       "      <td>700</td>\n",
       "      <td>24/1</td>\n",
       "      <td>Cotton 100%</td>\n",
       "      <td>Flat Knit</td>\n",
       "      <td>Flat Knit</td>\n",
       "      <td>1</td>\n",
       "    </tr>\n",
       "    <tr>\n",
       "      <th>4</th>\n",
       "      <td>700</td>\n",
       "      <td>24/1</td>\n",
       "      <td>Cotton 100%</td>\n",
       "      <td>Flat Knit</td>\n",
       "      <td>Flat Knit</td>\n",
       "      <td>1</td>\n",
       "    </tr>\n",
       "  </tbody>\n",
       "</table>\n",
       "</div>"
      ],
      "text/plain": [
       "    GSM Yarn_Count Composition_filled   Construction Construction_cleaned  \\\n",
       "0  700        24/1       Cotton 100%   Flat Knit Rib        Flat Knit Rib   \n",
       "1  700        24/1       Cotton 100%   Flat Knit Rib        Flat Knit Rib   \n",
       "2  700        24/1       Cotton 100%   Flat Knit Rib        Flat Knit Rib   \n",
       "3  700        24/1       Cotton 100%       Flat Knit            Flat Knit   \n",
       "4  700        24/1       Cotton 100%       Flat Knit            Flat Knit   \n",
       "\n",
       "   Yarn_count_length  \n",
       "0                  1  \n",
       "1                  1  \n",
       "2                  1  \n",
       "3                  1  \n",
       "4                  1  "
      ]
     },
     "execution_count": 31,
     "metadata": {},
     "output_type": "execute_result"
    }
   ],
   "source": [
    "df[['GSM', 'Yarn_Count','Composition_filled','Construction','Construction_cleaned', 'Yarn_count_length']].head()\n",
    "#so it is clear that the composition in misplaced in Construction column "
   ]
  },
  {
   "cell_type": "code",
   "execution_count": null,
   "id": "8fca5486",
   "metadata": {},
   "outputs": [],
   "source": []
  },
  {
   "cell_type": "code",
   "execution_count": 37,
   "id": "5b91d061",
   "metadata": {},
   "outputs": [],
   "source": [
    "# df['Composition_cleaned']\n",
    "# df[['GSM', 'Composition_filled', 'Construction_cleaned', 'Lot']].tail(20)\n",
    "                                                                    \n",
    "#Lot seems meaning less so we can drop it."
   ]
  },
  {
   "cell_type": "code",
   "execution_count": 33,
   "id": "8251e4ec",
   "metadata": {},
   "outputs": [],
   "source": [
    "#so we can \n",
    "# data = df.drop(['Lot', 'Composition', 'Construction'], axis=1)"
   ]
  },
  {
   "cell_type": "markdown",
   "id": "2b627d75",
   "metadata": {},
   "source": [
    "## Machine Total is a cumulative production of a single machine for upto few days. so we can not fill the  missing values of machine total. However,we can infer the mean production by using Pivot_table  "
   ]
  },
  {
   "cell_type": "markdown",
   "id": "1efb56d8",
   "metadata": {},
   "source": [
    "# Machine total is the total production per machine "
   ]
  },
  {
   "cell_type": "code",
   "execution_count": 32,
   "id": "d0e5bb3c",
   "metadata": {},
   "outputs": [],
   "source": [
    "df['M/C Brand']=df['M/C Brand'].replace('JiunnLong', 'Jiunn Long')"
   ]
  },
  {
   "cell_type": "code",
   "execution_count": 35,
   "id": "b022a7a1",
   "metadata": {},
   "outputs": [
    {
     "data": {
      "text/html": [
       "<div>\n",
       "<style scoped>\n",
       "    .dataframe tbody tr th:only-of-type {\n",
       "        vertical-align: middle;\n",
       "    }\n",
       "\n",
       "    .dataframe tbody tr th {\n",
       "        vertical-align: top;\n",
       "    }\n",
       "\n",
       "    .dataframe thead th {\n",
       "        text-align: right;\n",
       "    }\n",
       "</style>\n",
       "<table border=\"1\" class=\"dataframe\">\n",
       "  <thead>\n",
       "    <tr style=\"text-align: right;\">\n",
       "      <th></th>\n",
       "      <th>Machine Total</th>\n",
       "    </tr>\n",
       "    <tr>\n",
       "      <th>M/C Brand</th>\n",
       "      <th></th>\n",
       "    </tr>\n",
       "  </thead>\n",
       "  <tbody>\n",
       "    <tr>\n",
       "      <th>Fukuhara</th>\n",
       "      <td>183.211141</td>\n",
       "    </tr>\n",
       "    <tr>\n",
       "      <th>Hangxing</th>\n",
       "      <td>184.750132</td>\n",
       "    </tr>\n",
       "    <tr>\n",
       "      <th>Jiunn Long</th>\n",
       "      <td>106.961588</td>\n",
       "    </tr>\n",
       "    <tr>\n",
       "      <th>Lisky</th>\n",
       "      <td>152.841479</td>\n",
       "    </tr>\n",
       "    <tr>\n",
       "      <th>Pailung</th>\n",
       "      <td>58.996184</td>\n",
       "    </tr>\n",
       "    <tr>\n",
       "      <th>Santoni</th>\n",
       "      <td>132.196941</td>\n",
       "    </tr>\n",
       "  </tbody>\n",
       "</table>\n",
       "</div>"
      ],
      "text/plain": [
       "            Machine Total\n",
       "M/C Brand                \n",
       "Fukuhara       183.211141\n",
       "Hangxing       184.750132\n",
       "Jiunn Long     106.961588\n",
       "Lisky          152.841479\n",
       "Pailung         58.996184\n",
       "Santoni        132.196941"
      ]
     },
     "execution_count": 35,
     "metadata": {},
     "output_type": "execute_result"
    }
   ],
   "source": [
    "pd.pivot_table(df, index=['M/C Brand'], values=['Machine Total'] )"
   ]
  },
  {
   "cell_type": "markdown",
   "id": "84843660",
   "metadata": {},
   "source": [
    "## Lot number is significant in determininign the color and color range, so we will use lot number to fill color and color range =====>>>>>>>>>>>>>>>>>>>>///"
   ]
  },
  {
   "cell_type": "code",
   "execution_count": 33,
   "id": "1a529983",
   "metadata": {},
   "outputs": [],
   "source": [
    "df['Lot']= df['Lot'].apply(lambda x: str(x).strip())\n",
    "# df['Color']= df['Color'].apply(lambda x: str(x).strip() if x is None)"
   ]
  },
  {
   "cell_type": "code",
   "execution_count": 43,
   "id": "18e14fdf",
   "metadata": {
    "scrolled": true
   },
   "outputs": [],
   "source": [
    "# df[['Lot', 'Color', 'Color Range']].head(20)\n",
    "#in most of the cases Color and color range is vey similar so we will use Color range for the missing color\n",
    "# for a specific lot number."
   ]
  },
  {
   "cell_type": "code",
   "execution_count": null,
   "id": "b01280a3",
   "metadata": {},
   "outputs": [],
   "source": []
  },
  {
   "cell_type": "code",
   "execution_count": 34,
   "id": "f4fc8ea1",
   "metadata": {},
   "outputs": [],
   "source": [
    "lot_number =[]\n",
    "for i in df[df['Color'].isna()]['Lot']:\n",
    "    lot_number.append(str(i).strip())"
   ]
  },
  {
   "cell_type": "code",
   "execution_count": 35,
   "id": "13abf35b",
   "metadata": {},
   "outputs": [
    {
     "data": {
      "text/plain": [
       "['PU-JA3181E', 'PU-801-1,PU-Y223009WR', 'PU-Y223009WR', 'PU-Y223009WR']"
      ]
     },
     "execution_count": 35,
     "metadata": {},
     "output_type": "execute_result"
    }
   ],
   "source": [
    "lot_number"
   ]
  },
  {
   "cell_type": "code",
   "execution_count": 36,
   "id": "c29caf7a",
   "metadata": {},
   "outputs": [
    {
     "data": {
      "text/plain": [
       "2437                         NaN\n",
       "4988    LIGHT GRAY HEATHER BC04 \n",
       "9165         LIGHT GRAY HEATHER \n",
       "9441         LIGHT GRAY HEATHER \n",
       "Name: Color, dtype: object"
      ]
     },
     "execution_count": 36,
     "metadata": {},
     "output_type": "execute_result"
    }
   ],
   "source": [
    "df[df['Lot']== 'PU-JA3181E']['Color']"
   ]
  },
  {
   "cell_type": "code",
   "execution_count": 37,
   "id": "f9d55914",
   "metadata": {},
   "outputs": [
    {
     "data": {
      "text/plain": [
       "5831    Melange \n",
       "Name: Color Range, dtype: object"
      ]
     },
     "execution_count": 37,
     "metadata": {},
     "output_type": "execute_result"
    }
   ],
   "source": [
    "df[df['Lot']=='PU-801-1,PU-Y223009WR']['Color Range']"
   ]
  },
  {
   "cell_type": "code",
   "execution_count": 38,
   "id": "6a0aacf5",
   "metadata": {},
   "outputs": [
    {
     "data": {
      "text/plain": [
       "5837    Melange \n",
       "5993    Melange \n",
       "Name: Color Range, dtype: object"
      ]
     },
     "execution_count": 38,
     "metadata": {},
     "output_type": "execute_result"
    }
   ],
   "source": [
    "df[df['Lot']=='PU-Y223009WR']['Color Range']"
   ]
  },
  {
   "cell_type": "code",
   "execution_count": 39,
   "id": "22c9cc3e",
   "metadata": {},
   "outputs": [
    {
     "data": {
      "text/plain": [
       "5837    Melange \n",
       "5993    Melange \n",
       "Name: Color Range, dtype: object"
      ]
     },
     "execution_count": 39,
     "metadata": {},
     "output_type": "execute_result"
    }
   ],
   "source": [
    "df[df['Lot']=='PU-Y223009WR']['Color Range']\n"
   ]
  },
  {
   "cell_type": "code",
   "execution_count": 40,
   "id": "1931d206",
   "metadata": {},
   "outputs": [],
   "source": [
    "color_fill_dict = {'PU-JA3181E': 'LIGHT GRAY HEATHER', 'PU-Y223009WR': 'Melange', \n",
    "                   'PU-801-1,PU-Y223009WR': 'Melange',\n",
    " 'PU-Y223009WR': 'Melange'  }"
   ]
  },
  {
   "cell_type": "code",
   "execution_count": 41,
   "id": "41272ec0",
   "metadata": {},
   "outputs": [],
   "source": [
    "df['Color_filled']= df['Color'].fillna(df['Lot'].apply(lambda x: color_fill_dict[x] if x\n",
    "                                                       in color_fill_dict.keys() else 0))\n"
   ]
  },
  {
   "cell_type": "markdown",
   "id": "7d3842ed",
   "metadata": {},
   "source": [
    "# Color Range Fill up"
   ]
  },
  {
   "cell_type": "markdown",
   "id": "b3ddfe89",
   "metadata": {},
   "source": [
    "## filling color range with the value of color as color and color range are very similar"
   ]
  },
  {
   "cell_type": "code",
   "execution_count": 42,
   "id": "d9c7ae90",
   "metadata": {},
   "outputs": [
    {
     "data": {
      "text/html": [
       "<div>\n",
       "<style scoped>\n",
       "    .dataframe tbody tr th:only-of-type {\n",
       "        vertical-align: middle;\n",
       "    }\n",
       "\n",
       "    .dataframe tbody tr th {\n",
       "        vertical-align: top;\n",
       "    }\n",
       "\n",
       "    .dataframe thead th {\n",
       "        text-align: right;\n",
       "    }\n",
       "</style>\n",
       "<table border=\"1\" class=\"dataframe\">\n",
       "  <thead>\n",
       "    <tr style=\"text-align: right;\">\n",
       "      <th></th>\n",
       "      <th>Color</th>\n",
       "      <th>Color Range</th>\n",
       "    </tr>\n",
       "  </thead>\n",
       "  <tbody>\n",
       "    <tr>\n",
       "      <th>0</th>\n",
       "      <td>PURE WHITE 00010</td>\n",
       "      <td>White Color</td>\n",
       "    </tr>\n",
       "    <tr>\n",
       "      <th>1</th>\n",
       "      <td>PURE WHITE 00010</td>\n",
       "      <td>White Color</td>\n",
       "    </tr>\n",
       "    <tr>\n",
       "      <th>2</th>\n",
       "      <td>CHARCOAL HEATHER - 00009</td>\n",
       "      <td>Wash</td>\n",
       "    </tr>\n",
       "    <tr>\n",
       "      <th>3</th>\n",
       "      <td>RIBBON RED[19-1663 TCX]; 5MM TIPPING-WHITE</td>\n",
       "      <td>Wash</td>\n",
       "    </tr>\n",
       "    <tr>\n",
       "      <th>4</th>\n",
       "      <td>RIBBON RED[19-1663 TCX]; 5MM TIPPING-WHITE</td>\n",
       "      <td>Wash</td>\n",
       "    </tr>\n",
       "  </tbody>\n",
       "</table>\n",
       "</div>"
      ],
      "text/plain": [
       "                                         Color   Color Range\n",
       "0                            PURE WHITE 00010   White Color \n",
       "1                            PURE WHITE 00010   White Color \n",
       "2                    CHARCOAL HEATHER - 00009          Wash \n",
       "3  RIBBON RED[19-1663 TCX]; 5MM TIPPING-WHITE          Wash \n",
       "4  RIBBON RED[19-1663 TCX]; 5MM TIPPING-WHITE          Wash "
      ]
     },
     "execution_count": 42,
     "metadata": {},
     "output_type": "execute_result"
    }
   ],
   "source": [
    "df[['Color', 'Color Range']].head()"
   ]
  },
  {
   "cell_type": "code",
   "execution_count": 43,
   "id": "113eb23b",
   "metadata": {},
   "outputs": [
    {
     "data": {
      "text/plain": [
       "nan"
      ]
     },
     "execution_count": 43,
     "metadata": {},
     "output_type": "execute_result"
    }
   ],
   "source": [
    "df.loc[12518, 'Color Range']"
   ]
  },
  {
   "cell_type": "code",
   "execution_count": 44,
   "id": "8dc11622",
   "metadata": {},
   "outputs": [],
   "source": [
    "for ind, value in zip(df[df['Color Range'].isna()]['Color'].index, df[df['Color Range'].isna()]['Color'].values):\n",
    "    df.loc[ind, 'Color Range']= value.strip()\n",
    "    "
   ]
  },
  {
   "cell_type": "code",
   "execution_count": 45,
   "id": "1a28586c",
   "metadata": {},
   "outputs": [
    {
     "data": {
      "text/plain": [
       "'QUITE SHADE'"
      ]
     },
     "execution_count": 45,
     "metadata": {},
     "output_type": "execute_result"
    }
   ],
   "source": [
    "df.loc[12518, 'Color Range']"
   ]
  },
  {
   "cell_type": "code",
   "execution_count": 46,
   "id": "b57dea72",
   "metadata": {},
   "outputs": [
    {
     "data": {
      "text/plain": [
       "M/C Brand                     0\n",
       "Production Date               0\n",
       "M/C Dia & Gauge               0\n",
       "Body Part                     0\n",
       "Booking Type               1388\n",
       "Lot                           0\n",
       "Construction                  0\n",
       "Composition                  52\n",
       "Color                         4\n",
       "Color Range                   0\n",
       "Stich                         0\n",
       "Dia                           0\n",
       "GSM                           0\n",
       "SHIFT-A                       0\n",
       "SHIFT-B                       0\n",
       "SHIFT-C                       0\n",
       "Without Shift(Outbound)      52\n",
       "Shift Total                   0\n",
       "Machine Total               359\n",
       "Reject Qty                 4448\n",
       "Yarn_Count                    0\n",
       "Yarn_count_length             0\n",
       "Construction_cleaned          0\n",
       "Composition_filled            0\n",
       "Color_filled                  0\n",
       "dtype: int64"
      ]
     },
     "execution_count": 46,
     "metadata": {},
     "output_type": "execute_result"
    }
   ],
   "source": [
    "df.isna().sum()"
   ]
  },
  {
   "cell_type": "markdown",
   "id": "7066c54d",
   "metadata": {},
   "source": [
    "# filling body part"
   ]
  },
  {
   "cell_type": "code",
   "execution_count": 47,
   "id": "54989b29",
   "metadata": {},
   "outputs": [
    {
     "data": {
      "text/plain": [
       "Body Part\n",
       "Body                  80\n",
       "Main Fabric Top       76\n",
       "Main Fabric Bottom     2\n",
       "Name: count, dtype: int64"
      ]
     },
     "execution_count": 47,
     "metadata": {},
     "output_type": "execute_result"
    }
   ],
   "source": [
    "df[df['Construction']=='Interlock']['Body Part'].value_counts()"
   ]
  },
  {
   "cell_type": "code",
   "execution_count": 48,
   "id": "5b20bf6a",
   "metadata": {},
   "outputs": [
    {
     "data": {
      "text/plain": [
       "Body Part\n",
       "Main Fabric Top       54\n",
       "Body                  26\n",
       "Main Fabric Bottom    20\n",
       "Body Hood Pocket      11\n",
       "Bottom                 3\n",
       "Top Bottom             2\n",
       "Body [Top Part]        1\n",
       "Name: count, dtype: int64"
      ]
     },
     "execution_count": 48,
     "metadata": {},
     "output_type": "execute_result"
    }
   ],
   "source": [
    "df[df['Construction']=='Fleece']['Body Part'].value_counts()"
   ]
  },
  {
   "cell_type": "markdown",
   "id": "772af10b",
   "metadata": {},
   "source": [
    "## filling the missing body parts"
   ]
  },
  {
   "cell_type": "code",
   "execution_count": 49,
   "id": "b708536f",
   "metadata": {},
   "outputs": [],
   "source": [
    "for ind in (df['Body Part'].isna()).index:\n",
    "    if df.loc[ind, 'Construction_cleaned'] == 'Interlock':\n",
    "        df.loc[ind, 'Body Part'] == 'Body'\n",
    "    elif df.loc[ind, 'Construction_cleaned'] == 'Fleece':\n",
    "         df.loc[ind, 'Body Part'] == 'Main Fabric Top'\n"
   ]
  },
  {
   "cell_type": "code",
   "execution_count": 50,
   "id": "96137629",
   "metadata": {},
   "outputs": [],
   "source": [
    "df['Booking Type']= df['Booking Type'].fillna('Other')"
   ]
  },
  {
   "cell_type": "code",
   "execution_count": 51,
   "id": "4d1e0997",
   "metadata": {},
   "outputs": [],
   "source": [
    "#drop the duplicate columns filled with other values\n",
    "# data = df.drop(['Lot', 'Composition','Construction', 'Color' ], axis=1)"
   ]
  },
  {
   "cell_type": "code",
   "execution_count": 53,
   "id": "70360ede",
   "metadata": {},
   "outputs": [
    {
     "data": {
      "text/plain": [
       "M/C Brand                     0\n",
       "Production Date               0\n",
       "M/C Dia & Gauge               0\n",
       "Body Part                     0\n",
       "Booking Type                  0\n",
       "Lot                           0\n",
       "Construction                  0\n",
       "Composition                  52\n",
       "Color                         4\n",
       "Color Range                   0\n",
       "Stich                         0\n",
       "Dia                           0\n",
       "GSM                           0\n",
       "SHIFT-A                       0\n",
       "SHIFT-B                       0\n",
       "SHIFT-C                       0\n",
       "Without Shift(Outbound)      52\n",
       "Shift Total                   0\n",
       "Machine Total               359\n",
       "Reject Qty                 4448\n",
       "Yarn_Count                    0\n",
       "Yarn_count_length             0\n",
       "Construction_cleaned          0\n",
       "Composition_filled            0\n",
       "Color_filled                  0\n",
       "dtype: int64"
      ]
     },
     "execution_count": 53,
     "metadata": {},
     "output_type": "execute_result"
    }
   ],
   "source": [
    "df.isna().sum()"
   ]
  },
  {
   "cell_type": "markdown",
   "id": "1929d838",
   "metadata": {},
   "source": [
    "# data types manipulation"
   ]
  },
  {
   "cell_type": "code",
   "execution_count": 54,
   "id": "392339ae",
   "metadata": {},
   "outputs": [
    {
     "name": "stdout",
     "output_type": "stream",
     "text": [
      "<class 'pandas.core.frame.DataFrame'>\n",
      "RangeIndex: 12569 entries, 0 to 12568\n",
      "Data columns (total 25 columns):\n",
      " #   Column                   Non-Null Count  Dtype  \n",
      "---  ------                   --------------  -----  \n",
      " 0   M/C Brand                12569 non-null  object \n",
      " 1   Production Date          12569 non-null  object \n",
      " 2   M/C Dia & Gauge          12569 non-null  object \n",
      " 3   Body Part                12569 non-null  object \n",
      " 4   Booking Type             12569 non-null  object \n",
      " 5   Lot                      12569 non-null  object \n",
      " 6   Construction             12569 non-null  object \n",
      " 7   Composition              12517 non-null  object \n",
      " 8   Color                    12565 non-null  object \n",
      " 9   Color Range              12569 non-null  object \n",
      " 10  Stich                    12569 non-null  object \n",
      " 11  Dia                      12569 non-null  object \n",
      " 12  GSM                      12569 non-null  object \n",
      " 13  SHIFT-A                  12569 non-null  float64\n",
      " 14  SHIFT-B                  12569 non-null  float64\n",
      " 15  SHIFT-C                  12569 non-null  float64\n",
      " 16  Without Shift(Outbound)  12517 non-null  float64\n",
      " 17  Shift Total              12569 non-null  float64\n",
      " 18  Machine Total            12210 non-null  float64\n",
      " 19  Reject Qty               8121 non-null   object \n",
      " 20  Yarn_Count               12569 non-null  object \n",
      " 21  Yarn_count_length        12569 non-null  int64  \n",
      " 22  Construction_cleaned     12569 non-null  object \n",
      " 23  Composition_filled       12569 non-null  object \n",
      " 24  Color_filled             12569 non-null  object \n",
      "dtypes: float64(6), int64(1), object(18)\n",
      "memory usage: 2.4+ MB\n"
     ]
    }
   ],
   "source": [
    "df.info()"
   ]
  },
  {
   "cell_type": "code",
   "execution_count": 55,
   "id": "83a13fa4",
   "metadata": {},
   "outputs": [
    {
     "data": {
      "text/html": [
       "<div>\n",
       "<style scoped>\n",
       "    .dataframe tbody tr th:only-of-type {\n",
       "        vertical-align: middle;\n",
       "    }\n",
       "\n",
       "    .dataframe tbody tr th {\n",
       "        vertical-align: top;\n",
       "    }\n",
       "\n",
       "    .dataframe thead th {\n",
       "        text-align: right;\n",
       "    }\n",
       "</style>\n",
       "<table border=\"1\" class=\"dataframe\">\n",
       "  <thead>\n",
       "    <tr style=\"text-align: right;\">\n",
       "      <th></th>\n",
       "      <th>M/C Dia &amp; Gauge</th>\n",
       "      <th>Dia</th>\n",
       "      <th>Stich</th>\n",
       "      <th>GSM</th>\n",
       "      <th>Construction</th>\n",
       "    </tr>\n",
       "  </thead>\n",
       "  <tbody>\n",
       "    <tr>\n",
       "      <th>12549</th>\n",
       "      <td>34 X 24</td>\n",
       "      <td>85</td>\n",
       "      <td>1.45/1.50/2.10</td>\n",
       "      <td>170</td>\n",
       "      <td>Interlock, 58% Polyester 42% Cotton</td>\n",
       "    </tr>\n",
       "    <tr>\n",
       "      <th>12550</th>\n",
       "      <td>34 X 24</td>\n",
       "      <td>85</td>\n",
       "      <td>1.45/1.50/2.10</td>\n",
       "      <td>170</td>\n",
       "      <td>Interlock, 58% Polyester 42% Cotton</td>\n",
       "    </tr>\n",
       "    <tr>\n",
       "      <th>12551</th>\n",
       "      <td>34 X 24</td>\n",
       "      <td>85</td>\n",
       "      <td>1.45/1.50/2.10</td>\n",
       "      <td>170</td>\n",
       "      <td>Interlock, 58% Polyester 42% Cotton</td>\n",
       "    </tr>\n",
       "    <tr>\n",
       "      <th>12552</th>\n",
       "      <td>34 X 24</td>\n",
       "      <td>85</td>\n",
       "      <td>1.45/1.50/2.10</td>\n",
       "      <td>170</td>\n",
       "      <td>Interlock, 58% Polyester 42% Cotton</td>\n",
       "    </tr>\n",
       "    <tr>\n",
       "      <th>12553</th>\n",
       "      <td>34 X 24</td>\n",
       "      <td>85</td>\n",
       "      <td>1.45/1.50/2.10</td>\n",
       "      <td>170</td>\n",
       "      <td>Interlock, 58% Polyester 42% Cotton</td>\n",
       "    </tr>\n",
       "    <tr>\n",
       "      <th>12554</th>\n",
       "      <td>34 X 24</td>\n",
       "      <td>85</td>\n",
       "      <td>1.45/1.50/2.10</td>\n",
       "      <td>170</td>\n",
       "      <td>Interlock, 58% Polyester 42% Cotton</td>\n",
       "    </tr>\n",
       "    <tr>\n",
       "      <th>12555</th>\n",
       "      <td>42 X 14</td>\n",
       "      <td>60</td>\n",
       "      <td>3.00/3.50</td>\n",
       "      <td>283</td>\n",
       "      <td>Waffle, 65% Polyester 35% Cotton</td>\n",
       "    </tr>\n",
       "    <tr>\n",
       "      <th>12556</th>\n",
       "      <td>34 X 24</td>\n",
       "      <td>85</td>\n",
       "      <td>1.45/1.50/2.10</td>\n",
       "      <td>170</td>\n",
       "      <td>Interlock, 58% Polyester 42% Cotton</td>\n",
       "    </tr>\n",
       "    <tr>\n",
       "      <th>12557</th>\n",
       "      <td>42 X 14</td>\n",
       "      <td>60</td>\n",
       "      <td>3.60/3.004</td>\n",
       "      <td>185</td>\n",
       "      <td>Waffle, 70% Polyester 30% Cotton</td>\n",
       "    </tr>\n",
       "    <tr>\n",
       "      <th>12558</th>\n",
       "      <td>34 X 24</td>\n",
       "      <td>85</td>\n",
       "      <td>1.45/1.50/2.10</td>\n",
       "      <td>170</td>\n",
       "      <td>Interlock, 58% Polyester 42% Cotton</td>\n",
       "    </tr>\n",
       "    <tr>\n",
       "      <th>12559</th>\n",
       "      <td>34 X 24</td>\n",
       "      <td>85</td>\n",
       "      <td>1.45/1.50/2.10</td>\n",
       "      <td>170</td>\n",
       "      <td>Interlock, 58% Polyester 42% Cotton</td>\n",
       "    </tr>\n",
       "    <tr>\n",
       "      <th>12560</th>\n",
       "      <td>34 X 24</td>\n",
       "      <td>85</td>\n",
       "      <td>1.45/1.50/2.10</td>\n",
       "      <td>170</td>\n",
       "      <td>Interlock, 58% Polyester 42% Cotton</td>\n",
       "    </tr>\n",
       "    <tr>\n",
       "      <th>12561</th>\n",
       "      <td>34 X 24</td>\n",
       "      <td>85</td>\n",
       "      <td>1.45/1.50/2.10</td>\n",
       "      <td>170</td>\n",
       "      <td>Interlock, 58% Polyester 42% Cotton</td>\n",
       "    </tr>\n",
       "    <tr>\n",
       "      <th>12562</th>\n",
       "      <td>34 X 24</td>\n",
       "      <td>85</td>\n",
       "      <td>1.45/1.50/2.10</td>\n",
       "      <td>170</td>\n",
       "      <td>Interlock, 58% Polyester 42% Cotton</td>\n",
       "    </tr>\n",
       "    <tr>\n",
       "      <th>12563</th>\n",
       "      <td>34 X 24</td>\n",
       "      <td>85</td>\n",
       "      <td>1.45/1.50/2.10</td>\n",
       "      <td>170</td>\n",
       "      <td>Interlock, 58% Polyester 42% Cotton</td>\n",
       "    </tr>\n",
       "    <tr>\n",
       "      <th>12564</th>\n",
       "      <td>30 X 20</td>\n",
       "      <td>62</td>\n",
       "      <td>4.75/3.15/2.20</td>\n",
       "      <td>350</td>\n",
       "      <td>Fleece, 87% Cotton 13% Polyester</td>\n",
       "    </tr>\n",
       "    <tr>\n",
       "      <th>12565</th>\n",
       "      <td>30 X 20</td>\n",
       "      <td>62</td>\n",
       "      <td>4.75/3.15/2.20</td>\n",
       "      <td>350</td>\n",
       "      <td>Fleece, 87% Cotton 13% Polyester</td>\n",
       "    </tr>\n",
       "    <tr>\n",
       "      <th>12566</th>\n",
       "      <td>30 X 20</td>\n",
       "      <td>67</td>\n",
       "      <td>4.80/3.15/1.66</td>\n",
       "      <td>295</td>\n",
       "      <td>Fleece, 87% Cotton 13% Polyester</td>\n",
       "    </tr>\n",
       "    <tr>\n",
       "      <th>12567</th>\n",
       "      <td>30 X 20</td>\n",
       "      <td>67</td>\n",
       "      <td>4.80/3.15/1.66</td>\n",
       "      <td>295</td>\n",
       "      <td>Fleece, 87% Cotton 13% Polyester</td>\n",
       "    </tr>\n",
       "    <tr>\n",
       "      <th>12568</th>\n",
       "      <td>30 X 20</td>\n",
       "      <td>67</td>\n",
       "      <td>4.80/3.15/1.66</td>\n",
       "      <td>295</td>\n",
       "      <td>Fleece, 87% Cotton 13% Polyester</td>\n",
       "    </tr>\n",
       "  </tbody>\n",
       "</table>\n",
       "</div>"
      ],
      "text/plain": [
       "      M/C Dia & Gauge  Dia            Stich   GSM  \\\n",
       "12549         34 X 24  85   1.45/1.50/2.10   170    \n",
       "12550         34 X 24  85   1.45/1.50/2.10   170    \n",
       "12551         34 X 24  85   1.45/1.50/2.10   170    \n",
       "12552         34 X 24  85   1.45/1.50/2.10   170    \n",
       "12553         34 X 24  85   1.45/1.50/2.10   170    \n",
       "12554         34 X 24  85   1.45/1.50/2.10   170    \n",
       "12555         42 X 14  60        3.00/3.50   283    \n",
       "12556         34 X 24  85   1.45/1.50/2.10   170    \n",
       "12557         42 X 14  60       3.60/3.004   185    \n",
       "12558         34 X 24  85   1.45/1.50/2.10   170    \n",
       "12559         34 X 24  85   1.45/1.50/2.10   170    \n",
       "12560         34 X 24  85   1.45/1.50/2.10   170    \n",
       "12561         34 X 24  85   1.45/1.50/2.10   170    \n",
       "12562         34 X 24  85   1.45/1.50/2.10   170    \n",
       "12563         34 X 24  85   1.45/1.50/2.10   170    \n",
       "12564         30 X 20  62   4.75/3.15/2.20   350    \n",
       "12565         30 X 20  62   4.75/3.15/2.20   350    \n",
       "12566         30 X 20  67   4.80/3.15/1.66   295    \n",
       "12567         30 X 20  67   4.80/3.15/1.66   295    \n",
       "12568         30 X 20  67   4.80/3.15/1.66   295    \n",
       "\n",
       "                               Construction  \n",
       "12549  Interlock, 58% Polyester 42% Cotton   \n",
       "12550  Interlock, 58% Polyester 42% Cotton   \n",
       "12551  Interlock, 58% Polyester 42% Cotton   \n",
       "12552  Interlock, 58% Polyester 42% Cotton   \n",
       "12553  Interlock, 58% Polyester 42% Cotton   \n",
       "12554  Interlock, 58% Polyester 42% Cotton   \n",
       "12555     Waffle, 65% Polyester 35% Cotton   \n",
       "12556  Interlock, 58% Polyester 42% Cotton   \n",
       "12557     Waffle, 70% Polyester 30% Cotton   \n",
       "12558  Interlock, 58% Polyester 42% Cotton   \n",
       "12559  Interlock, 58% Polyester 42% Cotton   \n",
       "12560  Interlock, 58% Polyester 42% Cotton   \n",
       "12561  Interlock, 58% Polyester 42% Cotton   \n",
       "12562  Interlock, 58% Polyester 42% Cotton   \n",
       "12563  Interlock, 58% Polyester 42% Cotton   \n",
       "12564     Fleece, 87% Cotton 13% Polyester   \n",
       "12565     Fleece, 87% Cotton 13% Polyester   \n",
       "12566     Fleece, 87% Cotton 13% Polyester   \n",
       "12567     Fleece, 87% Cotton 13% Polyester   \n",
       "12568     Fleece, 87% Cotton 13% Polyester   "
      ]
     },
     "execution_count": 55,
     "metadata": {},
     "output_type": "execute_result"
    }
   ],
   "source": [
    "df[['M/C Dia & Gauge', 'Dia', 'Stich', 'GSM', 'Construction']].tail(20)\n",
    "#contraction == interlock\n",
    "#twist\n"
   ]
  },
  {
   "cell_type": "code",
   "execution_count": 57,
   "id": "77d70000",
   "metadata": {},
   "outputs": [
    {
     "data": {
      "text/plain": [
       "M/C Brand\n",
       "Fukuhara      4591\n",
       "Jiunn Long    2911\n",
       "Hangxing      2227\n",
       "Pailung       2041\n",
       "Lisky          620\n",
       "Santoni        179\n",
       "Name: count, dtype: int64"
      ]
     },
     "execution_count": 57,
     "metadata": {},
     "output_type": "execute_result"
    }
   ],
   "source": [
    "df['M/C Brand'].value_counts()\n",
    "#fuku dx3 +6\n",
    "#other dx3\n",
    "#rib dx2 "
   ]
  },
  {
   "cell_type": "code",
   "execution_count": 58,
   "id": "b97a5dda-b756-4a58-8eb4-1fb70f021451",
   "metadata": {},
   "outputs": [
    {
     "data": {
      "text/plain": [
       "0        01-06-2022 \n",
       "1        01-06-2022 \n",
       "2        01-06-2022 \n",
       "3        01-06-2022 \n",
       "4        01-06-2022 \n",
       "            ...     \n",
       "12564    20-08-2022 \n",
       "12565    20-08-2022 \n",
       "12566    25-08-2022 \n",
       "12567    25-08-2022 \n",
       "12568    28-08-2022 \n",
       "Name: Production Date, Length: 12569, dtype: object"
      ]
     },
     "execution_count": 58,
     "metadata": {},
     "output_type": "execute_result"
    }
   ],
   "source": [
    "df['Production Date']"
   ]
  },
  {
   "cell_type": "code",
   "execution_count": 69,
   "id": "642a3a17-a3d0-4a17-9f11-a2efe1565e57",
   "metadata": {},
   "outputs": [
    {
     "data": {
      "text/plain": [
       "12549    31-07-2022 \n",
       "12550    01-08-2022 \n",
       "12551    01-08-2022 \n",
       "12552    02-08-2022 \n",
       "12553    02-08-2022 \n",
       "12554    03-08-2022 \n",
       "12555    04-08-2022 \n",
       "12556    04-08-2022 \n",
       "12557    06-08-2022 \n",
       "12558    06-08-2022 \n",
       "12559    07-08-2022 \n",
       "12560    08-08-2022 \n",
       "12561    09-08-2022 \n",
       "12562    10-08-2022 \n",
       "12563    11-08-2022 \n",
       "12564    20-08-2022 \n",
       "12565    20-08-2022 \n",
       "12566    25-08-2022 \n",
       "12567    25-08-2022 \n",
       "12568    28-08-2022 \n",
       "Name: Production Date, dtype: object"
      ]
     },
     "execution_count": 69,
     "metadata": {},
     "output_type": "execute_result"
    }
   ],
   "source": [
    "df['Production Date'].tail(20)"
   ]
  },
  {
   "cell_type": "code",
   "execution_count": 59,
   "id": "a7bfd698",
   "metadata": {},
   "outputs": [
    {
     "data": {
      "text/plain": [
       "0       2022-06-01\n",
       "1       2022-06-01\n",
       "2       2022-06-01\n",
       "3       2022-06-01\n",
       "4       2022-06-01\n",
       "           ...    \n",
       "12564   2022-08-20\n",
       "12565   2022-08-20\n",
       "12566   2022-08-25\n",
       "12567   2022-08-25\n",
       "12568   2022-08-28\n",
       "Name: Production Date, Length: 12569, dtype: datetime64[ns]"
      ]
     },
     "execution_count": 59,
     "metadata": {},
     "output_type": "execute_result"
    }
   ],
   "source": [
    "# df['Production Date']= \n",
    "pd.to_datetime(df['Production Date'], format='%d-%m-%Y ')"
   ]
  },
  {
   "cell_type": "code",
   "execution_count": 61,
   "id": "6fd1249c-f16b-43de-beb9-55c9196386a7",
   "metadata": {},
   "outputs": [],
   "source": [
    "df['month']=pd.to_datetime(df['Production Date'], format=\"%d-%m-%Y \").dt.month"
   ]
  },
  {
   "cell_type": "code",
   "execution_count": 67,
   "id": "5bbc0171",
   "metadata": {},
   "outputs": [],
   "source": [
    "# df['Month']= \n",
    "# pd.to_datetime(df['Production Date'], format='%m-%d-%Y')"
   ]
  },
  {
   "cell_type": "code",
   "execution_count": 62,
   "id": "d47e1bb4",
   "metadata": {},
   "outputs": [],
   "source": [
    "def dia_strip(x):\n",
    "    try:\n",
    "        return int(x)\n",
    "    except:\n",
    "        try: \n",
    "            return int(x.split('/')[0])\n",
    "        except:\n",
    "            try:\n",
    "                return int(x.split(',')[0])\n",
    "            except:\n",
    "                if 'any' in x.lower():\n",
    "                    return 0\n",
    "                else:\n",
    "                    return x\n",
    "            \n",
    "\n",
    "        "
   ]
  },
  {
   "cell_type": "code",
   "execution_count": 534,
   "id": "2c2daa7e",
   "metadata": {},
   "outputs": [],
   "source": [
    "# df['Dia2']=df['Dia'].str.strip()\n"
   ]
  },
  {
   "cell_type": "code",
   "execution_count": 535,
   "id": "e07adec5",
   "metadata": {},
   "outputs": [],
   "source": [
    "# data['M/C Dia & Gauge']"
   ]
  },
  {
   "cell_type": "code",
   "execution_count": 63,
   "id": "97acb16e",
   "metadata": {},
   "outputs": [],
   "source": [
    "df['m/c_dia']= df['M/C Dia & Gauge'].str.split('X', expand= True)[0].astype(int)\n",
    "df['m/c_gauge']= df['M/C Dia & Gauge'].str.split('X', expand= True)[1].astype(int)"
   ]
  },
  {
   "cell_type": "code",
   "execution_count": 64,
   "id": "584e2ec9",
   "metadata": {},
   "outputs": [],
   "source": [
    "df['Dia']= df['Dia'].str.strip().replace('ANY', 'any')"
   ]
  },
  {
   "cell_type": "code",
   "execution_count": 65,
   "id": "799b6a84",
   "metadata": {},
   "outputs": [],
   "source": [
    "def dia_splitter(x):\n",
    "    try:\n",
    "        return int(x.split('/')[0])\n",
    "    except:\n",
    "        try:\n",
    "            return int(x.split(',')[0])\n",
    "        except :\n",
    "            return x\n",
    "    "
   ]
  },
  {
   "cell_type": "code",
   "execution_count": 66,
   "id": "94103993",
   "metadata": {},
   "outputs": [],
   "source": [
    "def dia_converter(x):\n",
    "    try:\n",
    "        return int(x)\n",
    "    except:\n",
    "        return x"
   ]
  },
  {
   "cell_type": "code",
   "execution_count": 67,
   "id": "4ad26962",
   "metadata": {},
   "outputs": [],
   "source": [
    "df['fabric_dia_1']=df['Dia'].apply(lambda x: dia_splitter(x))"
   ]
  },
  {
   "cell_type": "code",
   "execution_count": 68,
   "id": "2c5403de",
   "metadata": {},
   "outputs": [],
   "source": [
    "df['fabric_dia_1']= df['fabric_dia_1'].apply(lambda x: dia_converter(x))"
   ]
  },
  {
   "cell_type": "code",
   "execution_count": 69,
   "id": "d054da07",
   "metadata": {},
   "outputs": [],
   "source": [
    "def dia_splitter_2(x):\n",
    "    try:\n",
    "        return int(x.split('/')[1])\n",
    "    except:\n",
    "        try:\n",
    "            return int(x.split(',')[1])\n",
    "        except :\n",
    "            return x\n",
    "    "
   ]
  },
  {
   "cell_type": "code",
   "execution_count": 70,
   "id": "5eaaae3e",
   "metadata": {},
   "outputs": [],
   "source": [
    "df['fabric_dia_2']= df['Dia'].apply(lambda x: dia_splitter_2(x))"
   ]
  },
  {
   "cell_type": "code",
   "execution_count": 71,
   "id": "060b9636",
   "metadata": {},
   "outputs": [],
   "source": [
    "df['fabric_dia_2']= df['fabric_dia_2'].apply(lambda x: dia_converter(x))"
   ]
  },
  {
   "cell_type": "code",
   "execution_count": 72,
   "id": "02148dd3",
   "metadata": {},
   "outputs": [],
   "source": [
    "def contraction(x):\n",
    "    try:\n",
    "        return x['fabric_dia_1']/x['m/c_dia']\n",
    "    except:\n",
    "        return 0"
   ]
  },
  {
   "cell_type": "code",
   "execution_count": 73,
   "id": "4541a527",
   "metadata": {},
   "outputs": [],
   "source": [
    "def contraction_2(x):\n",
    "    try:\n",
    "        return x['fabric_dia_2']/x['m/c_dia']\n",
    "    except:\n",
    "        return 0"
   ]
  },
  {
   "cell_type": "code",
   "execution_count": 74,
   "id": "61db773f",
   "metadata": {},
   "outputs": [],
   "source": [
    "df['contraction_1']= df.apply(lambda x: contraction(x), axis=1)"
   ]
  },
  {
   "cell_type": "code",
   "execution_count": 75,
   "id": "c3a824ba",
   "metadata": {},
   "outputs": [],
   "source": [
    "df['contraction_2']= df.apply(lambda x: contraction_2(x), axis=1)"
   ]
  },
  {
   "cell_type": "code",
   "execution_count": 78,
   "id": "8da181a3",
   "metadata": {},
   "outputs": [],
   "source": [
    "df['contraction']= (df['contraction_1'] + df['contraction_2'])/2"
   ]
  },
  {
   "cell_type": "code",
   "execution_count": 79,
   "id": "7c1db389",
   "metadata": {},
   "outputs": [],
   "source": [
    "# data[['fabric_dia_1', 'm/c_dia','contraction', 'contraction_1', 'contraction_2' ]].tail(20)"
   ]
  },
  {
   "cell_type": "code",
   "execution_count": 80,
   "id": "374f85c2",
   "metadata": {},
   "outputs": [],
   "source": [
    "df['Construction_cleaned']= df['Construction_cleaned'].replace('L S/J', 'LS/J')\n"
   ]
  },
  {
   "cell_type": "code",
   "execution_count": 82,
   "id": "53e79dcc",
   "metadata": {},
   "outputs": [],
   "source": [
    "#number of feeders\n",
    "def feeder_number(x):\n",
    "    if (x['M/C Brand'] == 'Fukuhara') & ((x['Construction_cleaned'] == 'S/J') | (x['Construction_cleaned'] == 'LS/J')) :\n",
    "        return x['m/c_dia']*3 + 6\n",
    "    elif (x['M/C Brand'] == 'Fukuhara') & (x['Construction_cleaned'] != 'S/J') & (x['Construction_cleaned'] != 'LS/J')  :\n",
    "        return x['m/c_dia']*3\n",
    "    else:\n",
    "        return x['m/c_dia']*2"
   ]
  },
  {
   "cell_type": "code",
   "execution_count": 83,
   "id": "c1706c56",
   "metadata": {},
   "outputs": [],
   "source": [
    "df['number_of_feeders']= df.apply(lambda x: feeder_number(x), axis=1 )"
   ]
  },
  {
   "cell_type": "code",
   "execution_count": 84,
   "id": "5faf08b6-d494-4537-9080-ae982cc5ef45",
   "metadata": {},
   "outputs": [
    {
     "data": {
      "text/plain": [
       "0                     24/1\n",
       "1                     24/1\n",
       "2                     24/1\n",
       "3                     24/1\n",
       "4                     24/1\n",
       "               ...        \n",
       "12564    28/1,75D/36F,12/1\n",
       "12565    28/1,75D/36F,12/1\n",
       "12566    30/1,75D/36F,12/1\n",
       "12567    30/1,75D/36F,12/1\n",
       "12568    30/1,75D/36F,12/1\n",
       "Name: Yarn_Count, Length: 12569, dtype: object"
      ]
     },
     "execution_count": 84,
     "metadata": {},
     "output_type": "execute_result"
    }
   ],
   "source": [
    "df['Yarn_Count']"
   ]
  },
  {
   "cell_type": "code",
   "execution_count": 85,
   "id": "57529b23",
   "metadata": {},
   "outputs": [],
   "source": [
    "df['yarn_count_1'] = df['Yarn_Count'].str.split(',', expand = True)[0].str.split('/', expand = True)[0]"
   ]
  },
  {
   "cell_type": "code",
   "execution_count": 86,
   "id": "e4a2d513",
   "metadata": {},
   "outputs": [],
   "source": [
    "df['yarn_count_1']= df['Yarn_Count'].str.split(',', expand = True)[0]"
   ]
  },
  {
   "cell_type": "code",
   "execution_count": 87,
   "id": "1e3df9a5",
   "metadata": {},
   "outputs": [],
   "source": [
    "def count_converter(x):\n",
    "    try:\n",
    "        if 'D' not in x:\n",
    "            return 590.6/int(x[:2])\n",
    "        elif 'D' in x:\n",
    "            denier = int(x[:2])\n",
    "            return denier/9\n",
    "        else:\n",
    "            return 0\n",
    "    except:\n",
    "        return x"
   ]
  },
  {
   "cell_type": "code",
   "execution_count": 88,
   "id": "784acb66",
   "metadata": {},
   "outputs": [],
   "source": [
    "df['yarn_count_tex_1']= df['yarn_count_1'].apply(lambda x: count_converter(x))"
   ]
  },
  {
   "cell_type": "code",
   "execution_count": 89,
   "id": "a4b6f6d6",
   "metadata": {},
   "outputs": [],
   "source": [
    "# data['yarn_count_1'] = \n",
    "df['yarn_count_tex_2']= df['Yarn_Count'].str.split(',', expand = True)[1].apply(lambda x: count_converter(x))\n"
   ]
  },
  {
   "cell_type": "code",
   "execution_count": 90,
   "id": "15a2f90d",
   "metadata": {},
   "outputs": [],
   "source": [
    "df['yarn_count_tex_3']= df['Yarn_Count'].str.split(',', expand = True)[2].apply(lambda x: count_converter(x))\n"
   ]
  },
  {
   "cell_type": "code",
   "execution_count": 91,
   "id": "89fa31cd",
   "metadata": {},
   "outputs": [],
   "source": [
    "def stitich_splitter(x):\n",
    "    try:\n",
    "        if ',' in x:\n",
    "            return float(x.split(',')[0])\n",
    "        else:\n",
    "            return float(x)\n",
    "    except:\n",
    "        return x\n",
    "    "
   ]
  },
  {
   "cell_type": "code",
   "execution_count": 92,
   "id": "fc12acaa",
   "metadata": {},
   "outputs": [],
   "source": [
    "df['stitich_1']= df['Stich'].str.split('/', expand = True)[0].str.strip().apply(lambda x: stitich_splitter(x))\n"
   ]
  },
  {
   "cell_type": "code",
   "execution_count": 93,
   "id": "f166efd5",
   "metadata": {},
   "outputs": [],
   "source": [
    "# data['stitich_1']= \n",
    "df['stitich_2']= df['Stich'].str.split('/', expand = True)[1].str.strip().apply(lambda x: stitich_splitter(x))\n"
   ]
  },
  {
   "cell_type": "code",
   "execution_count": 94,
   "id": "f6b581c0",
   "metadata": {},
   "outputs": [],
   "source": [
    "df['stitich_3']= df['Stich'].str.split('/', expand = True)[2].str.strip().apply(lambda x: stitich_splitter(x))\n"
   ]
  },
  {
   "cell_type": "code",
   "execution_count": 98,
   "id": "a840a61f",
   "metadata": {},
   "outputs": [],
   "source": [
    "# data['m/c_gauge']"
   ]
  },
  {
   "cell_type": "code",
   "execution_count": 99,
   "id": "79ba2047",
   "metadata": {},
   "outputs": [],
   "source": [
    "# data['stitich_1']"
   ]
  },
  {
   "cell_type": "code",
   "execution_count": 96,
   "id": "f6d7f425",
   "metadata": {},
   "outputs": [],
   "source": [
    "def calculating_tightness_factor(x):\n",
    "    stitch = x['stitich_1']/10\n",
    "    tf = np.sqrt(x['yarn_count_tex_1'])/ stitch\n",
    "    return tf"
   ]
  },
  {
   "cell_type": "code",
   "execution_count": 97,
   "id": "5fe805a8",
   "metadata": {},
   "outputs": [],
   "source": [
    "df['tightness_factor']= df.apply(lambda x: calculating_tightness_factor(x), axis=1)"
   ]
  },
  {
   "cell_type": "code",
   "execution_count": 98,
   "id": "bc5adf10",
   "metadata": {},
   "outputs": [],
   "source": [
    "def calculation_tex_from_gauge(x):\n",
    "    tex = 100/x['m/c_gauge']\n",
    "    return tex**2"
   ]
  },
  {
   "cell_type": "code",
   "execution_count": 103,
   "id": "d6259543",
   "metadata": {},
   "outputs": [],
   "source": [
    "# data[['tightness_factor', 'contraction_1', 'contraction_2']]"
   ]
  },
  {
   "cell_type": "code",
   "execution_count": 104,
   "id": "6ba40410",
   "metadata": {},
   "outputs": [],
   "source": [
    "# data['Construction_cleaned']"
   ]
  },
  {
   "cell_type": "code",
   "execution_count": 99,
   "id": "c61ea4a7",
   "metadata": {},
   "outputs": [],
   "source": [
    "df['gauge_to_tex']= df.apply(lambda x: calculation_tex_from_gauge(x), axis=1)"
   ]
  },
  {
   "cell_type": "code",
   "execution_count": 100,
   "id": "010ba4d8",
   "metadata": {},
   "outputs": [
    {
     "data": {
      "text/html": [
       "<div>\n",
       "<style scoped>\n",
       "    .dataframe tbody tr th:only-of-type {\n",
       "        vertical-align: middle;\n",
       "    }\n",
       "\n",
       "    .dataframe tbody tr th {\n",
       "        vertical-align: top;\n",
       "    }\n",
       "\n",
       "    .dataframe thead th {\n",
       "        text-align: right;\n",
       "    }\n",
       "</style>\n",
       "<table border=\"1\" class=\"dataframe\">\n",
       "  <thead>\n",
       "    <tr style=\"text-align: right;\">\n",
       "      <th></th>\n",
       "      <th>Construction_cleaned</th>\n",
       "      <th>GSM</th>\n",
       "      <th>yarn_count_tex_1</th>\n",
       "      <th>yarn_count_tex_2</th>\n",
       "      <th>yarn_count_tex_3</th>\n",
       "      <th>gauge_to_tex</th>\n",
       "    </tr>\n",
       "  </thead>\n",
       "  <tbody>\n",
       "    <tr>\n",
       "      <th>0</th>\n",
       "      <td>Flat Knit Rib</td>\n",
       "      <td>700</td>\n",
       "      <td>24.608333</td>\n",
       "      <td>NaN</td>\n",
       "      <td>NaN</td>\n",
       "      <td>51.020408</td>\n",
       "    </tr>\n",
       "    <tr>\n",
       "      <th>1</th>\n",
       "      <td>Flat Knit Rib</td>\n",
       "      <td>700</td>\n",
       "      <td>24.608333</td>\n",
       "      <td>NaN</td>\n",
       "      <td>NaN</td>\n",
       "      <td>51.020408</td>\n",
       "    </tr>\n",
       "    <tr>\n",
       "      <th>2</th>\n",
       "      <td>Flat Knit Rib</td>\n",
       "      <td>700</td>\n",
       "      <td>24.608333</td>\n",
       "      <td>NaN</td>\n",
       "      <td>NaN</td>\n",
       "      <td>51.020408</td>\n",
       "    </tr>\n",
       "    <tr>\n",
       "      <th>3</th>\n",
       "      <td>Flat Knit</td>\n",
       "      <td>700</td>\n",
       "      <td>24.608333</td>\n",
       "      <td>NaN</td>\n",
       "      <td>NaN</td>\n",
       "      <td>51.020408</td>\n",
       "    </tr>\n",
       "    <tr>\n",
       "      <th>4</th>\n",
       "      <td>Flat Knit</td>\n",
       "      <td>700</td>\n",
       "      <td>24.608333</td>\n",
       "      <td>NaN</td>\n",
       "      <td>NaN</td>\n",
       "      <td>51.020408</td>\n",
       "    </tr>\n",
       "  </tbody>\n",
       "</table>\n",
       "</div>"
      ],
      "text/plain": [
       "  Construction_cleaned   GSM  yarn_count_tex_1  yarn_count_tex_2  \\\n",
       "0        Flat Knit Rib  700          24.608333               NaN   \n",
       "1        Flat Knit Rib  700          24.608333               NaN   \n",
       "2        Flat Knit Rib  700          24.608333               NaN   \n",
       "3            Flat Knit  700          24.608333               NaN   \n",
       "4            Flat Knit  700          24.608333               NaN   \n",
       "\n",
       "   yarn_count_tex_3  gauge_to_tex  \n",
       "0               NaN     51.020408  \n",
       "1               NaN     51.020408  \n",
       "2               NaN     51.020408  \n",
       "3               NaN     51.020408  \n",
       "4               NaN     51.020408  "
      ]
     },
     "execution_count": 100,
     "metadata": {},
     "output_type": "execute_result"
    }
   ],
   "source": [
    "df[['Construction_cleaned', 'GSM', 'yarn_count_tex_1','yarn_count_tex_2', \n",
    "      'yarn_count_tex_3', 'gauge_to_tex']].head()\n"
   ]
  },
  {
   "cell_type": "code",
   "execution_count": 107,
   "id": "b890f9e5",
   "metadata": {},
   "outputs": [],
   "source": [
    "# data['yarn_count_1'].tail(20)"
   ]
  },
  {
   "cell_type": "code",
   "execution_count": 101,
   "id": "551a5c1e",
   "metadata": {},
   "outputs": [],
   "source": [
    "composition_table = df['Composition_filled'].value_counts()<40\n",
    "# composition_table"
   ]
  },
  {
   "cell_type": "code",
   "execution_count": 102,
   "id": "1661249d",
   "metadata": {},
   "outputs": [],
   "source": [
    "df['composition_']= df['Composition_filled'].apply(lambda x: 'other' if composition_table[x] else x)"
   ]
  },
  {
   "cell_type": "code",
   "execution_count": 103,
   "id": "76105d25",
   "metadata": {},
   "outputs": [],
   "source": [
    "def composition_shorter(x):\n",
    "    if 'cotton' in x.lower() and '100' in x.lower():\n",
    "        return 'Cotton'\n",
    "    elif 'polyes' and '100' in x.lower():\n",
    "        return'Polyester'\n",
    "    elif 'cvc' in x.lower():\n",
    "        return 'Polyester'\n",
    "    elif ('cotton' or 'ctn') in x.lower() and ('polyester' or 'poly' ) in x.lower():\n",
    "        return 'Cotton_Polyester'\n",
    "    elif 'ctn' and 'poly' in x.lower():\n",
    "        return 'Cotton_Polyester'\n",
    "    elif 'cotton' and 'span' in x.lower():\n",
    "        return 'Cotton_Elastan'\n",
    "    elif ('cotton' or 'ctn' in x.lower()) and ('elast' or 'ly' or 'span') in x.lower() :\n",
    "        return 'Cotton_Elastan'\n",
    "    \n",
    "    elif 'cotton' and 'viscose' in x.lower():\n",
    "        return 'Cotton_Viscose'\n",
    "    else:\n",
    "        return 'other_cotton_blend'"
   ]
  },
  {
   "cell_type": "code",
   "execution_count": 104,
   "id": "faf3f078",
   "metadata": {},
   "outputs": [],
   "source": [
    "df['composition_sorted']= df['Composition_filled'].apply(lambda x: composition_shorter(x))"
   ]
  },
  {
   "cell_type": "code",
   "execution_count": 105,
   "id": "5d07f0bf",
   "metadata": {},
   "outputs": [
    {
     "data": {
      "text/plain": [
       "'Polyester'"
      ]
     },
     "execution_count": 105,
     "metadata": {},
     "output_type": "execute_result"
    }
   ],
   "source": [
    "composition_shorter('Polyester 100%')"
   ]
  },
  {
   "cell_type": "code",
   "execution_count": 106,
   "id": "724fef4b",
   "metadata": {},
   "outputs": [
    {
     "data": {
      "text/plain": [
       "M/C Brand                                 Fukuhara\n",
       "Production Date                        17-08-2022 \n",
       "M/C Dia & Gauge                            38 X 18\n",
       "Body Part                                  Binding\n",
       "Booking Type                  Sample Without Order\n",
       "Lot                                      ASL-818-6\n",
       "Construction                               1x1 RIB\n",
       "Composition                        Polyester 100% \n",
       "Color                      NAVY PEONY TCX 19-4029 \n",
       "Color Range                          Medium Color \n",
       "Stich                                        2.50 \n",
       "Dia                                             66\n",
       "GSM                                           220 \n",
       "SHIFT-A                                        0.0\n",
       "SHIFT-B                                       12.5\n",
       "SHIFT-C                                        0.0\n",
       "Without Shift(Outbound)                        0.0\n",
       "Shift Total                                   12.5\n",
       "Machine Total                                  0.0\n",
       "Reject Qty                                     NaN\n",
       "Yarn_Count                                150D/48F\n",
       "Yarn_count_length                                1\n",
       "Construction_cleaned                       1x1 RIB\n",
       "Composition_filled                 Polyester 100% \n",
       "Color_filled               NAVY PEONY TCX 19-4029 \n",
       "month                                            8\n",
       "m/c_dia                                         38\n",
       "m/c_gauge                                       18\n",
       "fabric_dia_1                                    66\n",
       "fabric_dia_2                                    66\n",
       "contraction_1                             1.736842\n",
       "contraction_2                             1.736842\n",
       "contraction                               1.736842\n",
       "number_of_feeders                              114\n",
       "yarn_count_1                              150D/48F\n",
       "yarn_count_tex_1                          1.666667\n",
       "yarn_count_tex_2                               NaN\n",
       "yarn_count_tex_3                               NaN\n",
       "stitich_1                                      2.5\n",
       "stitich_2                                     None\n",
       "stitich_3                                      NaN\n",
       "tightness_factor                          5.163978\n",
       "gauge_to_tex                             30.864198\n",
       "composition_                       Polyester 100% \n",
       "composition_sorted                       Polyester\n",
       "Name: 10152, dtype: object"
      ]
     },
     "execution_count": 106,
     "metadata": {},
     "output_type": "execute_result"
    }
   ],
   "source": [
    "df.iloc[10152, :]"
   ]
  },
  {
   "cell_type": "code",
   "execution_count": 107,
   "id": "f1f384f8",
   "metadata": {},
   "outputs": [],
   "source": [
    "def construction_shorter(x):\n",
    "    if 'ri' in x.lower():\n",
    "        return 'Rib'\n",
    "    elif 'fleece' in x.lower() or 'terry' in x.lower():\n",
    "        return 'Fleece_terry'\n",
    "    elif ('s/j' in x.lower())  and ('l' not in x.lower()) :\n",
    "        return 'S/J'\n",
    "    elif 'jers' in x.lower():\n",
    "        return 'S/J'\n",
    "    elif 'l' and 's/j' in x.lower():\n",
    "        return 'LS/J'\n",
    "    elif 'inter' in x.lower():\n",
    "        return 'Interlock'\n",
    "    elif 'mesh' in x.lower():\n",
    "        return 'Mesh'\n",
    "    elif 'pique' in x.lower():\n",
    "        return 'Pique'\n",
    "    else:\n",
    "        return 'other'"
   ]
  },
  {
   "cell_type": "code",
   "execution_count": 108,
   "id": "2f7982eb",
   "metadata": {},
   "outputs": [],
   "source": [
    "# data['composition_sorted']= \n",
    "df['construction_sorted']= df['Construction_cleaned'].apply(lambda x: construction_shorter(x))"
   ]
  },
  {
   "cell_type": "code",
   "execution_count": 109,
   "id": "a929d4e4",
   "metadata": {},
   "outputs": [],
   "source": [
    "def body_part_shorter(x):\n",
    "    if 'Main Fabric Bottom' == x or 'bottom' in x.lower():\n",
    "        return 'Bottom'\n",
    "    elif 'top' in x.lower():\n",
    "        return 'Top'\n",
    "    elif 'body' in x.lower() :\n",
    "        return 'Body'\n",
    "    elif 'rib' in x.lower() :\n",
    "        return 'Rib'\n",
    "    elif 'neck' in x.lower():\n",
    "        return 'Rib'\n",
    "    elif 'collar' in x.lower():\n",
    "        return 'Rib'\n",
    "    elif 'cuff' in x.lower():\n",
    "        return 'Rib'\n",
    "    else: \n",
    "        return 'other'"
   ]
  },
  {
   "cell_type": "code",
   "execution_count": 110,
   "id": "6fa79e96",
   "metadata": {},
   "outputs": [],
   "source": [
    "df['body_part_sorted']= df['Body Part'].apply(lambda x: body_part_shorter(x))"
   ]
  },
  {
   "cell_type": "code",
   "execution_count": 111,
   "id": "bc3e2626",
   "metadata": {},
   "outputs": [],
   "source": [
    "def stitch_2_cleaner(x):\n",
    "    try:\n",
    "        return float(x)\n",
    "    except:\n",
    "        try:\n",
    "            return float(x.strip('.'))\n",
    "        except:\n",
    "            try:\n",
    "                if 'CM' in x:\n",
    "                    try:\n",
    "                        return float(x[:3])/10\n",
    "                    except:\n",
    "                        return x.split('-')[1][:3] \n",
    "                \n",
    "                elif '..' in x:\n",
    "                    return float(x.replace('..','.'))                    \n",
    "            except :\n",
    "                return x\n",
    "                "
   ]
  },
  {
   "cell_type": "code",
   "execution_count": 112,
   "id": "08d002ba",
   "metadata": {},
   "outputs": [],
   "source": [
    "df['stitich_2'] = df['stitich_2'].apply(lambda x: stitch_2_cleaner(x)).astype(float)"
   ]
  },
  {
   "cell_type": "code",
   "execution_count": 113,
   "id": "f68be2aa",
   "metadata": {},
   "outputs": [],
   "source": [
    "df['GSM']= df['GSM'].astype(int)"
   ]
  },
  {
   "cell_type": "code",
   "execution_count": 117,
   "id": "f6af3c3d",
   "metadata": {},
   "outputs": [
    {
     "data": {
      "text/plain": [
       "Index(['M/C Brand', 'Production Date', 'M/C Dia & Gauge', 'Body Part',\n",
       "       'Booking Type', 'Lot', 'Construction', 'Composition', 'Color',\n",
       "       'Color Range', 'Stich', 'Dia', 'GSM', 'SHIFT-A', 'SHIFT-B', 'SHIFT-C',\n",
       "       'Without Shift(Outbound)', 'Shift Total', 'Machine Total', 'Reject Qty',\n",
       "       'Yarn_Count', 'Yarn_count_length', 'Construction_cleaned',\n",
       "       'Composition_filled', 'Color_filled', 'month', 'm/c_dia', 'm/c_gauge',\n",
       "       'fabric_dia_1', 'fabric_dia_2', 'contraction_1', 'contraction_2',\n",
       "       'contraction', 'number_of_feeders', 'yarn_count_1', 'yarn_count_tex_1',\n",
       "       'yarn_count_tex_2', 'yarn_count_tex_3', 'stitich_1', 'stitich_2',\n",
       "       'stitich_3', 'tightness_factor', 'gauge_to_tex', 'composition_',\n",
       "       'composition_sorted', 'construction_sorted', 'body_part_sorted'],\n",
       "      dtype='object')"
      ]
     },
     "execution_count": 117,
     "metadata": {},
     "output_type": "execute_result"
    }
   ],
   "source": [
    "df.columns"
   ]
  },
  {
   "cell_type": "code",
   "execution_count": 118,
   "id": "71bfb4eb-a34f-485a-8090-1c8695292c7a",
   "metadata": {},
   "outputs": [
    {
     "data": {
      "text/html": [
       "<div>\n",
       "<style scoped>\n",
       "    .dataframe tbody tr th:only-of-type {\n",
       "        vertical-align: middle;\n",
       "    }\n",
       "\n",
       "    .dataframe tbody tr th {\n",
       "        vertical-align: top;\n",
       "    }\n",
       "\n",
       "    .dataframe thead th {\n",
       "        text-align: right;\n",
       "    }\n",
       "</style>\n",
       "<table border=\"1\" class=\"dataframe\">\n",
       "  <thead>\n",
       "    <tr style=\"text-align: right;\">\n",
       "      <th></th>\n",
       "      <th>M/C Brand</th>\n",
       "      <th>Production Date</th>\n",
       "      <th>M/C Dia &amp; Gauge</th>\n",
       "      <th>Body Part</th>\n",
       "      <th>Booking Type</th>\n",
       "      <th>Lot</th>\n",
       "      <th>Construction</th>\n",
       "      <th>Composition</th>\n",
       "      <th>Color</th>\n",
       "      <th>Color Range</th>\n",
       "      <th>...</th>\n",
       "      <th>yarn_count_tex_3</th>\n",
       "      <th>stitich_1</th>\n",
       "      <th>stitich_2</th>\n",
       "      <th>stitich_3</th>\n",
       "      <th>tightness_factor</th>\n",
       "      <th>gauge_to_tex</th>\n",
       "      <th>composition_</th>\n",
       "      <th>composition_sorted</th>\n",
       "      <th>construction_sorted</th>\n",
       "      <th>body_part_sorted</th>\n",
       "    </tr>\n",
       "  </thead>\n",
       "  <tbody>\n",
       "    <tr>\n",
       "      <th>0</th>\n",
       "      <td>Fukuhara</td>\n",
       "      <td>01-06-2022</td>\n",
       "      <td>52 X 14</td>\n",
       "      <td>Collar</td>\n",
       "      <td>Main</td>\n",
       "      <td>MGF-SS-8</td>\n",
       "      <td>Flat Knit Rib</td>\n",
       "      <td>Cotton 100%</td>\n",
       "      <td>PURE WHITE 00010</td>\n",
       "      <td>White Color</td>\n",
       "      <td>...</td>\n",
       "      <td>NaN</td>\n",
       "      <td>4.75</td>\n",
       "      <td>NaN</td>\n",
       "      <td>NaN</td>\n",
       "      <td>10.443534</td>\n",
       "      <td>51.020408</td>\n",
       "      <td>Cotton 100%</td>\n",
       "      <td>Cotton</td>\n",
       "      <td>Rib</td>\n",
       "      <td>Rib</td>\n",
       "    </tr>\n",
       "    <tr>\n",
       "      <th>1</th>\n",
       "      <td>Fukuhara</td>\n",
       "      <td>01-06-2022</td>\n",
       "      <td>52 X 14</td>\n",
       "      <td>Cuff</td>\n",
       "      <td>Main</td>\n",
       "      <td>MGF-SS-8</td>\n",
       "      <td>Flat Knit Rib</td>\n",
       "      <td>Cotton 100%</td>\n",
       "      <td>PURE WHITE 00010</td>\n",
       "      <td>White Color</td>\n",
       "      <td>...</td>\n",
       "      <td>NaN</td>\n",
       "      <td>4.75</td>\n",
       "      <td>NaN</td>\n",
       "      <td>NaN</td>\n",
       "      <td>10.443534</td>\n",
       "      <td>51.020408</td>\n",
       "      <td>Cotton 100%</td>\n",
       "      <td>Cotton</td>\n",
       "      <td>Rib</td>\n",
       "      <td>Rib</td>\n",
       "    </tr>\n",
       "    <tr>\n",
       "      <th>2</th>\n",
       "      <td>Fukuhara</td>\n",
       "      <td>01-06-2022</td>\n",
       "      <td>52 X 14</td>\n",
       "      <td>Collar 1</td>\n",
       "      <td>Main</td>\n",
       "      <td>MGF-63</td>\n",
       "      <td>Flat Knit Rib</td>\n",
       "      <td>Cotton 100%</td>\n",
       "      <td>CHARCOAL HEATHER - 00009</td>\n",
       "      <td>Wash</td>\n",
       "      <td>...</td>\n",
       "      <td>NaN</td>\n",
       "      <td>4.75</td>\n",
       "      <td>NaN</td>\n",
       "      <td>NaN</td>\n",
       "      <td>10.443534</td>\n",
       "      <td>51.020408</td>\n",
       "      <td>Cotton 100%</td>\n",
       "      <td>Cotton</td>\n",
       "      <td>Rib</td>\n",
       "      <td>Rib</td>\n",
       "    </tr>\n",
       "  </tbody>\n",
       "</table>\n",
       "<p>3 rows × 47 columns</p>\n",
       "</div>"
      ],
      "text/plain": [
       "  M/C Brand Production Date M/C Dia & Gauge Body Part Booking Type       Lot  \\\n",
       "0  Fukuhara     01-06-2022          52 X 14    Collar         Main  MGF-SS-8   \n",
       "1  Fukuhara     01-06-2022          52 X 14      Cuff         Main  MGF-SS-8   \n",
       "2  Fukuhara     01-06-2022          52 X 14  Collar 1         Main    MGF-63   \n",
       "\n",
       "    Construction   Composition                      Color   Color Range  ...  \\\n",
       "0  Flat Knit Rib  Cotton 100%           PURE WHITE 00010   White Color   ...   \n",
       "1  Flat Knit Rib  Cotton 100%           PURE WHITE 00010   White Color   ...   \n",
       "2  Flat Knit Rib  Cotton 100%   CHARCOAL HEATHER - 00009          Wash   ...   \n",
       "\n",
       "  yarn_count_tex_3 stitich_1  stitich_2  stitich_3  tightness_factor  \\\n",
       "0              NaN      4.75        NaN        NaN         10.443534   \n",
       "1              NaN      4.75        NaN        NaN         10.443534   \n",
       "2              NaN      4.75        NaN        NaN         10.443534   \n",
       "\n",
       "   gauge_to_tex  composition_  composition_sorted  construction_sorted  \\\n",
       "0     51.020408  Cotton 100%               Cotton                  Rib   \n",
       "1     51.020408  Cotton 100%               Cotton                  Rib   \n",
       "2     51.020408  Cotton 100%               Cotton                  Rib   \n",
       "\n",
       "  body_part_sorted  \n",
       "0              Rib  \n",
       "1              Rib  \n",
       "2              Rib  \n",
       "\n",
       "[3 rows x 47 columns]"
      ]
     },
     "execution_count": 118,
     "metadata": {},
     "output_type": "execute_result"
    }
   ],
   "source": [
    "df.head(3)"
   ]
  },
  {
   "cell_type": "code",
   "execution_count": 121,
   "id": "ffd8ce53-59c1-4f49-8d57-d767d0916a5a",
   "metadata": {},
   "outputs": [
    {
     "data": {
      "text/plain": [
       "M/C Brand                      0\n",
       "Production Date                0\n",
       "M/C Dia & Gauge                0\n",
       "Body Part                      0\n",
       "Booking Type                   0\n",
       "Lot                            0\n",
       "Construction                   0\n",
       "Composition                   52\n",
       "Color                          4\n",
       "Color Range                    0\n",
       "Stich                          0\n",
       "Dia                            0\n",
       "GSM                            0\n",
       "SHIFT-A                        0\n",
       "SHIFT-B                        0\n",
       "SHIFT-C                        0\n",
       "Without Shift(Outbound)       52\n",
       "Shift Total                    0\n",
       "Machine Total                359\n",
       "Reject Qty                  4448\n",
       "Yarn_Count                     0\n",
       "Yarn_count_length              0\n",
       "Construction_cleaned           0\n",
       "Composition_filled             0\n",
       "Color_filled                   0\n",
       "month                          0\n",
       "m/c_dia                        0\n",
       "m/c_gauge                      0\n",
       "fabric_dia_1                   0\n",
       "fabric_dia_2                   0\n",
       "contraction_1                  0\n",
       "contraction_2                  0\n",
       "contraction                    0\n",
       "number_of_feeders              0\n",
       "yarn_count_1                   0\n",
       "yarn_count_tex_1               0\n",
       "yarn_count_tex_2            7697\n",
       "yarn_count_tex_3           11615\n",
       "stitich_1                      0\n",
       "stitich_2                   6521\n",
       "stitich_3                  11423\n",
       "tightness_factor               0\n",
       "gauge_to_tex                   0\n",
       "composition_                   0\n",
       "composition_sorted             0\n",
       "construction_sorted            0\n",
       "body_part_sorted               0\n",
       "dtype: int64"
      ]
     },
     "execution_count": 121,
     "metadata": {},
     "output_type": "execute_result"
    }
   ],
   "source": [
    "df.isna().sum()"
   ]
  },
  {
   "cell_type": "code",
   "execution_count": 120,
   "id": "89b322fc-3d50-48bb-8b44-1172d6a94822",
   "metadata": {},
   "outputs": [],
   "source": [
    "# df[['Color Range', 'Color_filled']]"
   ]
  },
  {
   "cell_type": "code",
   "execution_count": 122,
   "id": "51931231-80fe-40db-afc1-e5d368544a16",
   "metadata": {},
   "outputs": [],
   "source": [
    "columns = ['M/C Brand', 'Production Date', 'M/C Dia & Gauge', 'Body Part',\n",
    "       'Booking Type', 'Lot', 'Color Range', 'Stich', 'Dia', 'GSM', 'SHIFT-A', 'SHIFT-B', 'SHIFT-C',\n",
    "       'Without Shift(Outbound)', 'Shift Total', 'Machine Total', 'Reject Qty',\n",
    "       'Yarn_Count', 'Yarn_count_length', 'Construction_cleaned',\n",
    "       'Composition_filled', 'Color_filled', 'month', 'm/c_dia', 'm/c_gauge',\n",
    "       'fabric_dia_1', 'fabric_dia_2', 'contraction_1', 'contraction_2',\n",
    "       'contraction', 'number_of_feeders', 'yarn_count_1', 'yarn_count_tex_1',\n",
    "       'yarn_count_tex_2', 'yarn_count_tex_3', 'stitich_1', 'stitich_2',\n",
    "       'stitich_3', 'tightness_factor', 'gauge_to_tex', 'composition_',\n",
    "       'composition_sorted', 'construction_sorted', 'body_part_sorted']"
   ]
  },
  {
   "cell_type": "code",
   "execution_count": 126,
   "id": "0e488a2c-d826-41e1-8a4d-d3d18c0dff6e",
   "metadata": {},
   "outputs": [],
   "source": [
    "data = df[columns]"
   ]
  },
  {
   "cell_type": "code",
   "execution_count": 127,
   "id": "78fbd641-31aa-46c4-9271-468deb7bfcc0",
   "metadata": {},
   "outputs": [],
   "source": [
    "data.to_csv('Final_dataset_cleaned_2024.csv', index= False)"
   ]
  },
  {
   "cell_type": "code",
   "execution_count": null,
   "id": "a8de51fc-7bbc-4cd0-a32b-78aff5b828ba",
   "metadata": {},
   "outputs": [],
   "source": []
  }
 ],
 "metadata": {
  "kernelspec": {
   "display_name": "Python 3 (ipykernel)",
   "language": "python",
   "name": "python3"
  },
  "language_info": {
   "codemirror_mode": {
    "name": "ipython",
    "version": 3
   },
   "file_extension": ".py",
   "mimetype": "text/x-python",
   "name": "python",
   "nbconvert_exporter": "python",
   "pygments_lexer": "ipython3",
   "version": "3.12.2"
  }
 },
 "nbformat": 4,
 "nbformat_minor": 5
}
